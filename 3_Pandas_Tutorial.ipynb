{
 "cells": [
  {
   "cell_type": "markdown",
   "metadata": {},
   "source": [
    "# Table of Contents \n",
    "\n",
    "- **Series**\n",
    "- **DataFrame**\n",
    "    - Accessing a DataFrame\n",
    "    - Boolean Indexing\n",
    "    - Adding columns\n",
    "    - Deleting columns\n",
    "    - Importing Excel files as DataFrames\n",
    "    - Missing Data\n",
    "    - Writing and reading CSV files\n",
    "\n",
    "- **DataFrame Operations**\n",
    "    - Matrix operations\n",
    "    - Column operations\n",
    "\n",
    "- **Data Splitting**\n",
    "    - Grouping\n",
    "    \n",
    "- **Plotting with Pandas and Matplotlib: examples**\n",
    "    \n"
   ]
  },
  {
   "cell_type": "markdown",
   "metadata": {},
   "source": [
    "### The Data Mining Process \n",
    "\n",
    "Image from: \n",
    "\n",
    "    Usama M. Fayyad, Gregory Piatetsky-Shapiro, Padhraic Smyth, and Ramasamy Uthurusamy. \n",
    "    Advances in Knowledge Discovery and Data Mining.\n",
    "    MIT Press, Menlo Park, CA, 1996\n",
    "\n",
    "![datamining](images/DataMiningProcess.PNG)\n"
   ]
  },
  {
   "cell_type": "markdown",
   "metadata": {},
   "source": [
    "**Pandas** is desgined to make **data pre-processing and data analysis fast and easy in Python**. Pandas adopts many coding idioms from NumPy, such as avoiding the `for` loops, but it is designed for working with heterogenous data represented in tabular format.\n",
    "\n",
    "To use Pandas, you need to import the `pandas` module, using for example:"
   ]
  },
  {
   "cell_type": "code",
   "execution_count": null,
   "metadata": {
    "ExecuteTime": {
     "end_time": "2020-06-24T12:57:09.909716Z",
     "start_time": "2020-06-24T12:57:02.830486Z"
    }
   },
   "outputs": [],
   "source": [
    "import pandas as pd\n",
    "import numpy as np # we will also need numpy"
   ]
  },
  {
   "cell_type": "markdown",
   "metadata": {},
   "source": [
    "This import style is quite standard; all objects and functions the `pandas` package will now be invoked with the `pd.` prefix.\n"
   ]
  },
  {
   "cell_type": "markdown",
   "metadata": {},
   "source": [
    "NumPy (**Num**erical **Py**thon) is the fundamental package for scientific computing with Python. It contains, among other things:\n",
    "\n",
    "- a powerful N-dimensional array object\n",
    "- sophisticated functions that support broadcasting (i.e. it allows to perform arithmetic operations between arrays with different shape)\n",
    "- tools for integrating C/C++ and Fortran code\n",
    "- useful linear algebra, Fourier transform, and random number capabilities\n",
    "\n",
    "The core object of numpy is **ndarray**: N-dimensional Array. It represents a multidimensional, homogeneous array of fixed-size items."
   ]
  },
  {
   "cell_type": "code",
   "execution_count": null,
   "metadata": {},
   "outputs": [],
   "source": [
    "# example of 1-dimensional array\n",
    "np.arange(0,1,0.1)"
   ]
  },
  {
   "cell_type": "code",
   "execution_count": null,
   "metadata": {},
   "outputs": [],
   "source": [
    "# example of 2-dimensional array\n",
    "my_ndarray = np.ones((3,5))\n",
    "my_ndarray"
   ]
  },
  {
   "cell_type": "code",
   "execution_count": null,
   "metadata": {},
   "outputs": [],
   "source": [
    "np.asarray([1,2,3])"
   ]
  },
  {
   "cell_type": "code",
   "execution_count": null,
   "metadata": {
    "scrolled": true
   },
   "outputs": [],
   "source": [
    "print(my_ndarray)\n",
    "print(my_ndarray.shape)\n",
    "print(my_ndarray.ndim)\n",
    "print(my_ndarray.size)\n",
    "print(my_ndarray.dtype)"
   ]
  },
  {
   "cell_type": "markdown",
   "metadata": {},
   "source": [
    "\n",
    "<font color='blue'>Pandas has two main data structures, **Series** and **DataFrame**.</font>\n"
   ]
  },
  {
   "cell_type": "markdown",
   "metadata": {},
   "source": [
    "# Series\n",
    "\n",
    "Series are the Pandas version of 1-D Numpy arrays. \n",
    "\n",
    "An instance of Series is a single dimension array-like object containing:\n",
    "- a *sequence of values*,\n",
    "- an array of *data labels*, called its **index**.\n",
    "\n",
    "A Series can be created easily from a Python list:"
   ]
  },
  {
   "cell_type": "code",
   "execution_count": null,
   "metadata": {
    "ExecuteTime": {
     "end_time": "2020-06-24T14:06:29.883282Z",
     "start_time": "2020-06-24T14:06:29.873731Z"
    },
    "scrolled": true
   },
   "outputs": [],
   "source": [
    "ts = pd.Series([4, 8, 1, 3])\n",
    "print(ts)"
   ]
  },
  {
   "cell_type": "markdown",
   "metadata": {},
   "source": [
    "The string representation of a Series display two columns: the first column represents the index array, the second column represents the values array. Since no index was specified, the default indexing consists of increasing integers starting from 0. "
   ]
  },
  {
   "cell_type": "markdown",
   "metadata": {},
   "source": [
    "The underlying structure can be recovered with the `values` attribute:"
   ]
  },
  {
   "cell_type": "code",
   "execution_count": null,
   "metadata": {
    "ExecuteTime": {
     "end_time": "2020-06-24T14:06:30.975916Z",
     "start_time": "2020-06-24T14:06:30.966676Z"
    }
   },
   "outputs": [],
   "source": [
    "print(ts.values)\n",
    "print(type(ts.values))"
   ]
  },
  {
   "cell_type": "markdown",
   "metadata": {},
   "source": [
    "To create a Series with its own index, you can write:"
   ]
  },
  {
   "cell_type": "code",
   "execution_count": null,
   "metadata": {
    "ExecuteTime": {
     "end_time": "2020-06-24T13:10:32.009532Z",
     "start_time": "2020-06-24T13:10:31.999642Z"
    },
    "scrolled": true
   },
   "outputs": [],
   "source": [
    "ts = pd.Series([4, 8, 1, 3], index=['first', 'second', 'third', 'fourth'])\n",
    "print(ts)"
   ]
  },
  {
   "cell_type": "markdown",
   "metadata": {},
   "source": [
    "The labels in the index can be used to select values in the Series:"
   ]
  },
  {
   "cell_type": "code",
   "execution_count": null,
   "metadata": {
    "ExecuteTime": {
     "end_time": "2020-06-24T13:13:05.940761Z",
     "start_time": "2020-06-24T13:13:05.922266Z"
    }
   },
   "outputs": [],
   "source": [
    "print(ts['first'])\n"
   ]
  },
  {
   "cell_type": "code",
   "execution_count": null,
   "metadata": {},
   "outputs": [],
   "source": [
    "print(ts[['second', 'fourth']])"
   ]
  },
  {
   "cell_type": "markdown",
   "metadata": {},
   "source": [
    "You can think about a Series as a kind of fixed-length, ordered Python's `dict`, mapping index values to data values. In fact, it is possible to create a Series directlty from a Python's `dict`:"
   ]
  },
  {
   "cell_type": "code",
   "execution_count": null,
   "metadata": {
    "ExecuteTime": {
     "end_time": "2020-06-24T13:18:31.486140Z",
     "start_time": "2020-06-24T13:18:31.465527Z"
    }
   },
   "outputs": [],
   "source": [
    "my_dict = {'Pisa': 80, 'London': 300, 'Paris': 1}\n",
    "ts = pd.Series(my_dict)\n",
    "print(ts)"
   ]
  },
  {
   "cell_type": "markdown",
   "metadata": {},
   "source": [
    "**Arithmetic operations** on Series are automatically aligned on the index labels:"
   ]
  },
  {
   "cell_type": "code",
   "execution_count": null,
   "metadata": {},
   "outputs": [],
   "source": [
    "ts1 = pd.Series([4, 8, 1, 3], index=['first', 'second', 'third', 'fourth'])\n",
    "ts2 = pd.Series([4, 8, 1], index=['first', 'second', 'pisa'])"
   ]
  },
  {
   "cell_type": "code",
   "execution_count": null,
   "metadata": {},
   "outputs": [],
   "source": [
    "ts1"
   ]
  },
  {
   "cell_type": "code",
   "execution_count": null,
   "metadata": {},
   "outputs": [],
   "source": [
    "ts2"
   ]
  },
  {
   "cell_type": "code",
   "execution_count": null,
   "metadata": {
    "ExecuteTime": {
     "end_time": "2020-06-24T13:29:55.852232Z",
     "start_time": "2020-06-24T13:29:55.833699Z"
    },
    "scrolled": true
   },
   "outputs": [],
   "source": [
    "ts_sum = ts1 + ts2\n",
    "print(ts_sum)"
   ]
  },
  {
   "cell_type": "markdown",
   "metadata": {},
   "source": [
    "Here two index values are correctly computed (corresponding to the label `first` and `second`). The two other index labels `third` and `fourth` in `ts1` are missing in `ts2`, as well as the `pisa` index label in `ts2`. Hence, for each of these index label, a `NaN` value (*not a number*) appears, which Pandas considers as a **missing value**.\n",
    "\n",
    "The `pd.isnull` (or `pd.isna`) and `pd.notnull` (or `pd.notna`) functions detects missing data. There are also corresponding **instance methods**."
   ]
  },
  {
   "cell_type": "code",
   "execution_count": null,
   "metadata": {
    "ExecuteTime": {
     "end_time": "2020-06-24T13:31:20.930884Z",
     "start_time": "2020-06-24T13:31:20.911850Z"
    }
   },
   "outputs": [],
   "source": [
    "print(pd.isnull(ts_sum))\n",
    "print()\n",
    "print(ts_sum.isnull())"
   ]
  },
  {
   "cell_type": "code",
   "execution_count": null,
   "metadata": {},
   "outputs": [],
   "source": [
    "print(pd.notnull(ts_sum))\n",
    "print()\n",
    "print(ts_sum.notnull())"
   ]
  },
  {
   "cell_type": "markdown",
   "metadata": {},
   "source": [
    "# DataFrame\n",
    "\n",
    "A DataFrame is a **rectangular table of data**. It contains an ordered list of columns. Every column can be of a different type. \n",
    "\n",
    "A DataFrame has both a *row index* and a *column index*. It can be thought as a *dictionary of Series* (one per column) all sharing the same index labels.\n",
    "\n",
    "There are many way to construct a DataFrame, but the most common is using a dictionary of Python's lists (or NumPy's arrays):"
   ]
  },
  {
   "cell_type": "code",
   "execution_count": null,
   "metadata": {
    "ExecuteTime": {
     "end_time": "2020-06-24T13:46:58.794613Z",
     "start_time": "2020-06-24T13:46:58.779817Z"
    }
   },
   "outputs": [],
   "source": [
    "cars = {'Brand': ['Honda Civic', 'Toyota Corolla', 'Ford Focus', 'Audi A4'],\n",
    "        'Price': [22000, 25000, 27000, 35000],\n",
    "        'Wheels': 4} # broadcast if possible\n",
    "\n",
    "df = pd.DataFrame(cars)\n",
    "print(df)"
   ]
  },
  {
   "cell_type": "markdown",
   "metadata": {},
   "source": [
    "The resulting DataFrame will receive its index automatically as with Series."
   ]
  },
  {
   "cell_type": "markdown",
   "metadata": {},
   "source": [
    "To pretty-print a DataFrame in a Jupyter notebooks, it is enough to write its name (or using the `head()` instance method for very long DataFrames):"
   ]
  },
  {
   "cell_type": "code",
   "execution_count": null,
   "metadata": {},
   "outputs": [],
   "source": [
    "df"
   ]
  },
  {
   "cell_type": "code",
   "execution_count": null,
   "metadata": {
    "ExecuteTime": {
     "end_time": "2020-06-24T13:48:19.586597Z",
     "start_time": "2020-06-24T13:48:19.564159Z"
    }
   },
   "outputs": [],
   "source": [
    "df.head(2)"
   ]
  },
  {
   "cell_type": "code",
   "execution_count": null,
   "metadata": {},
   "outputs": [],
   "source": [
    "df.tail(2)\n",
    "# df.sample(2)"
   ]
  },
  {
   "cell_type": "markdown",
   "metadata": {},
   "source": [
    "A summary of the *numerical* data is provided by `describe`:"
   ]
  },
  {
   "cell_type": "code",
   "execution_count": null,
   "metadata": {
    "scrolled": true
   },
   "outputs": [],
   "source": [
    "df.describe()"
   ]
  },
  {
   "cell_type": "markdown",
   "metadata": {},
   "source": [
    "If working with a large table, it might be useful to sometimes have a list of all the columns' names. This is given by the `keys()` methods:"
   ]
  },
  {
   "cell_type": "code",
   "execution_count": null,
   "metadata": {
    "ExecuteTime": {
     "end_time": "2020-06-24T14:19:07.147448Z",
     "start_time": "2020-06-24T14:19:07.137275Z"
    },
    "scrolled": true
   },
   "outputs": [],
   "source": [
    "print(df.keys())"
   ]
  },
  {
   "cell_type": "code",
   "execution_count": null,
   "metadata": {},
   "outputs": [],
   "source": [
    "print(df.columns)"
   ]
  },
  {
   "cell_type": "markdown",
   "metadata": {},
   "source": [
    "Many feature from the NumPy package can be directly used with Pandas DataFrames"
   ]
  },
  {
   "cell_type": "code",
   "execution_count": null,
   "metadata": {
    "ExecuteTime": {
     "end_time": "2020-06-25T08:48:02.257248Z",
     "start_time": "2020-06-25T08:48:02.236802Z"
    }
   },
   "outputs": [],
   "source": [
    "print(df.values)\n",
    "print()\n",
    "print(type(df.values))"
   ]
  },
  {
   "cell_type": "code",
   "execution_count": null,
   "metadata": {
    "ExecuteTime": {
     "end_time": "2020-06-25T08:48:03.529820Z",
     "start_time": "2020-06-25T08:48:03.499697Z"
    }
   },
   "outputs": [],
   "source": [
    "print(df.shape)"
   ]
  },
  {
   "cell_type": "markdown",
   "metadata": {},
   "source": [
    "Another common way to create a DataFrame is to use a *nested dict of dicts*:"
   ]
  },
  {
   "cell_type": "code",
   "execution_count": null,
   "metadata": {
    "ExecuteTime": {
     "end_time": "2020-06-24T14:27:29.650782Z",
     "start_time": "2020-06-24T14:27:29.643762Z"
    }
   },
   "outputs": [],
   "source": [
    "population = {'Nevada': {2001: 2.4, 2002: 2.9},\n",
    "       'Ohio': {2000: 1.5, 2001: 1.7, 2002: 3.6}}"
   ]
  },
  {
   "cell_type": "markdown",
   "metadata": {},
   "source": [
    "If this nested dict is passed to the DataFrame, the **outer dict keys are interpreted as column labels**, and the **inner keys are interpreted as row labels**:"
   ]
  },
  {
   "cell_type": "code",
   "execution_count": null,
   "metadata": {
    "ExecuteTime": {
     "end_time": "2020-06-24T14:28:37.554310Z",
     "start_time": "2020-06-24T14:28:37.535827Z"
    }
   },
   "outputs": [],
   "source": [
    "df = pd.DataFrame(population)\n",
    "df"
   ]
  },
  {
   "cell_type": "markdown",
   "metadata": {},
   "source": [
    "## Accessing a DataFrame"
   ]
  },
  {
   "cell_type": "markdown",
   "metadata": {},
   "source": [
    "Let's create a brand new DataFrame:"
   ]
  },
  {
   "cell_type": "code",
   "execution_count": null,
   "metadata": {
    "ExecuteTime": {
     "end_time": "2020-06-24T14:10:32.187393Z",
     "start_time": "2020-06-24T14:10:32.162017Z"
    }
   },
   "outputs": [],
   "source": [
    "dict_of_list = {'birth': [1860, 1770, 1858, 1906], \n",
    "                'death':[1911, 1827, 1924, 1975], \n",
    "                'city':['Kaliste', 'Bonn', 'Lucques', 'Saint-Petersburg']}\n",
    "composers_df = pd.DataFrame(dict_of_list, index=['Mahler', 'Beethoven', 'Puccini', 'Shostakovich'])\n",
    "composers_df"
   ]
  },
  {
   "cell_type": "markdown",
   "metadata": {},
   "source": [
    "There are multiple ways of accessing values or series of values in a Dataframe. Unlike in Series, a simple bracket gives access to a column and not an index, for example:"
   ]
  },
  {
   "cell_type": "code",
   "execution_count": null,
   "metadata": {
    "ExecuteTime": {
     "end_time": "2020-06-24T14:11:08.259631Z",
     "start_time": "2020-06-24T14:11:08.241496Z"
    }
   },
   "outputs": [],
   "source": [
    "composers_df['city']"
   ]
  },
  {
   "cell_type": "markdown",
   "metadata": {},
   "source": [
    "returns a Series. Alternatively one can also use the attributes syntax and access columns by using:"
   ]
  },
  {
   "cell_type": "code",
   "execution_count": null,
   "metadata": {
    "ExecuteTime": {
     "end_time": "2020-06-24T14:11:37.321286Z",
     "start_time": "2020-06-24T14:11:37.309806Z"
    }
   },
   "outputs": [],
   "source": [
    "composers_df.city"
   ]
  },
  {
   "cell_type": "markdown",
   "metadata": {},
   "source": [
    "The attributes syntax has some limitations, so in case something does not work as expected, revert to the brackets notation.\n",
    "\n",
    "When specifiying multiple columns, a DataFrame is returned:"
   ]
  },
  {
   "cell_type": "code",
   "execution_count": null,
   "metadata": {
    "ExecuteTime": {
     "end_time": "2020-06-24T14:12:06.558313Z",
     "start_time": "2020-06-24T14:12:06.540600Z"
    }
   },
   "outputs": [],
   "source": [
    "composers_df[['city', 'birth']]"
   ]
  },
  {
   "cell_type": "markdown",
   "metadata": {},
   "source": [
    "from the [docs](https://pandas.pydata.org/pandas-docs/stable/user_guide/indexing.html):\n",
    ">The Python and NumPy indexing operators [$\\cdot$] and attribute operator  `.` provide quick and easy access to pandas data structures across a wide range of use cases. This makes interactive work intuitive, as there’s little new to learn if you already know how to deal with Python dictionaries and NumPy arrays. However, since the type of the data to be accessed isn’t known in advance, directly using standard operators has some optimization limits. For production code, we recommended that you take advantage of the **optimized pandas data access methods**.\n",
    "\n"
   ]
  },
  {
   "cell_type": "markdown",
   "metadata": {},
   "source": [
    "Standard indexing operators (just slices the rows)"
   ]
  },
  {
   "cell_type": "code",
   "execution_count": null,
   "metadata": {},
   "outputs": [],
   "source": [
    "composers_df[0:2]"
   ]
  },
  {
   "cell_type": "markdown",
   "metadata": {},
   "source": [
    "Pandas optimized data access methods:  `iloc` and `loc`.\n",
    "\n",
    "**Remember that `loc` and `iloc` are attributes, not methods, hence they use brackets `[]` and not parenthesis `()`.**\n",
    "\n",
    "The `loc` attribute allows to recover elements by using the index labels, while the `iloc` attribute can be used to recover the regular indexing:"
   ]
  },
  {
   "cell_type": "code",
   "execution_count": null,
   "metadata": {
    "ExecuteTime": {
     "end_time": "2020-06-24T14:16:36.990555Z",
     "start_time": "2020-06-24T14:16:36.979449Z"
    }
   },
   "outputs": [],
   "source": [
    "print(composers_df.iloc[0:2,:])\n",
    "print()\n",
    "print(composers_df.loc[['Mahler','Beethoven'], 'death'])\n",
    "print()\n",
    "print(composers_df.loc['Beethoven', 'death'])"
   ]
  },
  {
   "cell_type": "markdown",
   "metadata": {},
   "source": [
    "## Boolean Indexing\n",
    "\n",
    "Just like with Numpy, it is possible to subselect parts of a Dataframe using boolean indexing.\n",
    "A logical Series can be used as an index to select elements in the Dataframe."
   ]
  },
  {
   "cell_type": "code",
   "execution_count": null,
   "metadata": {},
   "outputs": [],
   "source": [
    "composers_df"
   ]
  },
  {
   "cell_type": "code",
   "execution_count": null,
   "metadata": {
    "scrolled": true
   },
   "outputs": [],
   "source": [
    "mask = composers_df['death'] > 1859\n",
    "print(mask)\n",
    "composers_df[mask]"
   ]
  },
  {
   "cell_type": "markdown",
   "metadata": {},
   "source": [
    "More compact:"
   ]
  },
  {
   "cell_type": "code",
   "execution_count": null,
   "metadata": {},
   "outputs": [],
   "source": [
    "composers_df[composers_df['birth'] > 1900]"
   ]
  },
  {
   "cell_type": "markdown",
   "metadata": {},
   "source": [
    "## Adding columns"
   ]
  },
  {
   "cell_type": "markdown",
   "metadata": {},
   "source": [
    "It is very simple to add a column to a Dataframe:"
   ]
  },
  {
   "cell_type": "code",
   "execution_count": null,
   "metadata": {
    "ExecuteTime": {
     "end_time": "2020-06-24T14:25:29.267510Z",
     "start_time": "2020-06-24T14:25:29.253143Z"
    }
   },
   "outputs": [],
   "source": [
    "composers_df['country'] = '???'\n",
    "composers_df"
   ]
  },
  {
   "cell_type": "markdown",
   "metadata": {},
   "source": [
    "Alternatively, an existing list can be used:"
   ]
  },
  {
   "cell_type": "code",
   "execution_count": null,
   "metadata": {
    "ExecuteTime": {
     "end_time": "2020-06-24T14:25:30.513553Z",
     "start_time": "2020-06-24T14:25:30.500562Z"
    }
   },
   "outputs": [],
   "source": [
    "composers_df['country2'] = ['Austria','Germany','Italy','Russia']\n",
    "composers_df"
   ]
  },
  {
   "cell_type": "markdown",
   "metadata": {},
   "source": [
    "## Deleting columns and rows"
   ]
  },
  {
   "cell_type": "code",
   "execution_count": null,
   "metadata": {},
   "outputs": [],
   "source": [
    "composers_df"
   ]
  },
  {
   "cell_type": "code",
   "execution_count": null,
   "metadata": {},
   "outputs": [],
   "source": [
    "composers_df.drop(columns = ['country2'])"
   ]
  },
  {
   "cell_type": "code",
   "execution_count": null,
   "metadata": {},
   "outputs": [],
   "source": [
    "composers_df.drop('Puccini')"
   ]
  },
  {
   "cell_type": "code",
   "execution_count": null,
   "metadata": {},
   "outputs": [],
   "source": [
    "composers_df.drop?"
   ]
  },
  {
   "cell_type": "code",
   "execution_count": null,
   "metadata": {},
   "outputs": [],
   "source": [
    "composers_df #note that, by default, drop does not operate in-place"
   ]
  },
  {
   "cell_type": "markdown",
   "metadata": {},
   "source": [
    "## Importing Excel files as DataFrames"
   ]
  },
  {
   "cell_type": "markdown",
   "metadata": {},
   "source": [
    "Another very common way of \"creating\" a Pandas Dataframe is by importing a table from another format like CSV or Excel. You may need to also install `xlrd` package:"
   ]
  },
  {
   "cell_type": "code",
   "execution_count": null,
   "metadata": {
    "scrolled": true
   },
   "outputs": [],
   "source": [
    "# !pip install xlrd\n",
    "# !conda install openpyxl"
   ]
  },
  {
   "cell_type": "markdown",
   "metadata": {},
   "source": [
    "An Excel table is provided in the [composers.xlsx](data/composers.xlsx) file and can be read with the `pd.read_excel` function."
   ]
  },
  {
   "cell_type": "code",
   "execution_count": null,
   "metadata": {
    "ExecuteTime": {
     "end_time": "2020-06-24T14:46:22.696917Z",
     "start_time": "2020-06-24T14:46:22.651062Z"
    }
   },
   "outputs": [],
   "source": [
    "composers_df = pd.read_excel('data/composers.xlsx')\n",
    "composers_df"
   ]
  },
  {
   "cell_type": "markdown",
   "metadata": {},
   "source": [
    "The reader automatically recognized the heaers of the file. However it created a new index. If needed we can specify which column to use as header:"
   ]
  },
  {
   "cell_type": "code",
   "execution_count": null,
   "metadata": {},
   "outputs": [],
   "source": [
    "pd.read_excel?"
   ]
  },
  {
   "cell_type": "code",
   "execution_count": null,
   "metadata": {
    "ExecuteTime": {
     "end_time": "2020-06-24T14:47:02.153798Z",
     "start_time": "2020-06-24T14:47:02.086758Z"
    }
   },
   "outputs": [],
   "source": [
    "composers_df = pd.read_excel('data/composers.xlsx', index_col = 'composer')\n",
    "composers_df"
   ]
  },
  {
   "cell_type": "markdown",
   "metadata": {},
   "source": [
    "If we open the file in Excel, we see that it is composed of more than one sheet. Clearly, when not specifying anything, the reader only reads the first sheet. However we can specify a sheet:"
   ]
  },
  {
   "cell_type": "code",
   "execution_count": null,
   "metadata": {
    "ExecuteTime": {
     "end_time": "2020-06-24T14:51:26.183305Z",
     "start_time": "2020-06-24T14:51:26.141838Z"
    }
   },
   "outputs": [],
   "source": [
    "composers_df = pd.read_excel('data/composers.xlsx', index_col = 'composer', sheet_name='Sheet2')\n",
    "composers_df"
   ]
  },
  {
   "cell_type": "code",
   "execution_count": null,
   "metadata": {},
   "outputs": [],
   "source": [
    "composers_df.describe()"
   ]
  },
  {
   "cell_type": "markdown",
   "metadata": {},
   "source": [
    "As you can see above, some information is missing. Some missing values are marked as \"`unknown`\" while other are `NaN`. `NaN` is the standard symbol for unknown/missing values and is understood by Pandas while \"`unknown`\" is just seen as text. \n",
    "This is impractical as now we have columns with a mix of numbers and text which will make later computations difficult. What we would like to do is to replace all \"irrelevant\" values with the standard `NaN` symbol that says \"*no information*\".\n",
    "For this we can use the `na_values` argument to specify what should be a `NaN`:"
   ]
  },
  {
   "cell_type": "code",
   "execution_count": null,
   "metadata": {
    "ExecuteTime": {
     "end_time": "2020-06-24T14:58:59.168497Z",
     "start_time": "2020-06-24T14:58:59.139749Z"
    }
   },
   "outputs": [],
   "source": [
    "composers_df = pd.read_excel('data/composers.xlsx', index_col = 'composer', sheet_name='Sheet2', \n",
    "                             na_values=['unknown'])\n",
    "composers_df"
   ]
  },
  {
   "cell_type": "markdown",
   "metadata": {},
   "source": [
    "## Missing data\n",
    "pandas primarily uses the value `np.nan` to represent missing data. It is by default not included in computations."
   ]
  },
  {
   "cell_type": "code",
   "execution_count": null,
   "metadata": {},
   "outputs": [],
   "source": [
    "df_new = composers_df.copy()"
   ]
  },
  {
   "cell_type": "code",
   "execution_count": null,
   "metadata": {},
   "outputs": [],
   "source": [
    "df_new"
   ]
  },
  {
   "cell_type": "markdown",
   "metadata": {},
   "source": [
    "Get a boolean mask where values are `np.nan` (as for Series)."
   ]
  },
  {
   "cell_type": "code",
   "execution_count": null,
   "metadata": {
    "scrolled": true
   },
   "outputs": [],
   "source": [
    "pd.isna(df_new)"
   ]
  },
  {
   "cell_type": "code",
   "execution_count": null,
   "metadata": {},
   "outputs": [],
   "source": [
    "df_new.isna().values.any()"
   ]
  },
  {
   "cell_type": "code",
   "execution_count": null,
   "metadata": {},
   "outputs": [],
   "source": [
    "df_new.isna().sum()"
   ]
  },
  {
   "cell_type": "markdown",
   "metadata": {},
   "source": [
    "To drop missing data."
   ]
  },
  {
   "cell_type": "code",
   "execution_count": null,
   "metadata": {
    "scrolled": true
   },
   "outputs": [],
   "source": [
    "df_new.dropna(how='any') # delete any row and column with at least one np.nan"
   ]
  },
  {
   "cell_type": "code",
   "execution_count": null,
   "metadata": {},
   "outputs": [],
   "source": [
    "df_new.dropna(how = 'all') # the whole row (or column) must be np.nan "
   ]
  },
  {
   "cell_type": "markdown",
   "metadata": {},
   "source": [
    "Filling missing data"
   ]
  },
  {
   "cell_type": "code",
   "execution_count": null,
   "metadata": {},
   "outputs": [],
   "source": [
    "df_new.fillna(value=5)"
   ]
  },
  {
   "cell_type": "markdown",
   "metadata": {},
   "source": [
    "## Writing and reading - CSV files\n"
   ]
  },
  {
   "cell_type": "code",
   "execution_count": null,
   "metadata": {},
   "outputs": [],
   "source": [
    "df_new.to_csv('data/foo.csv')"
   ]
  },
  {
   "cell_type": "code",
   "execution_count": null,
   "metadata": {},
   "outputs": [],
   "source": [
    "df_read = pd.read_csv('data/foo.csv')\n",
    "df_read"
   ]
  },
  {
   "cell_type": "code",
   "execution_count": null,
   "metadata": {},
   "outputs": [],
   "source": [
    "df_read = pd.read_csv('data/foo.csv',index_col = 'composer')\n",
    "df_read"
   ]
  },
  {
   "cell_type": "markdown",
   "metadata": {},
   "source": [
    "# DataFrame Operations\n",
    "\n",
    "One of the great advantages of using Pandas to handle tabular data is how simple it is to extract valuable information from them. Here we are going to see various types of operations that are available for this.\n",
    "\n",
    "## Matrix operations\n",
    "\n",
    "The strength of Numpy is its natural way of handling matrix operations, and Pandas reuses a lot of these features. For example one can use simple mathematical operations to opereate at the cell level:"
   ]
  },
  {
   "cell_type": "code",
   "execution_count": null,
   "metadata": {
    "ExecuteTime": {
     "end_time": "2020-06-24T15:09:22.426144Z",
     "start_time": "2020-06-24T15:09:22.385407Z"
    }
   },
   "outputs": [],
   "source": [
    "df = pd.read_excel('data/composers.xlsx')\n",
    "df"
   ]
  },
  {
   "cell_type": "code",
   "execution_count": null,
   "metadata": {
    "ExecuteTime": {
     "end_time": "2020-06-24T15:09:39.792603Z",
     "start_time": "2020-06-24T15:09:39.775993Z"
    }
   },
   "outputs": [],
   "source": [
    "df['birth'] * 2"
   ]
  },
  {
   "cell_type": "code",
   "execution_count": null,
   "metadata": {
    "ExecuteTime": {
     "end_time": "2020-06-24T15:10:00.912276Z",
     "start_time": "2020-06-24T15:10:00.899426Z"
    },
    "scrolled": true
   },
   "outputs": [],
   "source": [
    "np.log(df['birth'])"
   ]
  },
  {
   "cell_type": "markdown",
   "metadata": {},
   "source": [
    "We can directly use an operation's output to create a new column:"
   ]
  },
  {
   "cell_type": "code",
   "execution_count": null,
   "metadata": {
    "ExecuteTime": {
     "end_time": "2020-06-24T15:19:14.832808Z",
     "start_time": "2020-06-24T15:19:14.807838Z"
    }
   },
   "outputs": [],
   "source": [
    "df['age'] = df['death'] - df['birth']\n",
    "df"
   ]
  },
  {
   "cell_type": "markdown",
   "metadata": {},
   "source": [
    "Here we applied functions only to series. Indeed, since our Dataframe contains e.g. strings, no operation can be done on it. If however we have a homogenous Dataframe, this is possible:"
   ]
  },
  {
   "cell_type": "code",
   "execution_count": null,
   "metadata": {
    "ExecuteTime": {
     "end_time": "2020-06-24T15:10:52.552872Z",
     "start_time": "2020-06-24T15:10:52.534293Z"
    }
   },
   "outputs": [],
   "source": [
    "df[['birth', 'death']] * 2"
   ]
  },
  {
   "cell_type": "markdown",
   "metadata": {},
   "source": [
    "## Column operations\n",
    "\n",
    "There are other types of functions whose purpose is to summarize the data. For example the mean or standard deviation. Pandas by default applies such functions column-wise and returns a series containing e.g. the mean of each column:"
   ]
  },
  {
   "cell_type": "code",
   "execution_count": null,
   "metadata": {
    "ExecuteTime": {
     "end_time": "2020-06-24T15:11:31.318490Z",
     "start_time": "2020-06-24T15:11:31.299730Z"
    }
   },
   "outputs": [],
   "source": [
    "np.mean(df[['birth','death','age']])"
   ]
  },
  {
   "cell_type": "markdown",
   "metadata": {},
   "source": [
    "Sometimes one needs to apply to a column a very specific function that is not provided by default. In that case we can use one of the different `apply` methods of Pandas.\n",
    "\n",
    "The simplest case is to apply a function to a column, or Series of a DataFrame. Let's say for example that we want to define the age >60 as 'old' and <60 as 'young'. We can define the following general function:"
   ]
  },
  {
   "cell_type": "code",
   "execution_count": null,
   "metadata": {
    "ExecuteTime": {
     "end_time": "2020-06-24T15:16:11.585908Z",
     "start_time": "2020-06-24T15:16:11.579767Z"
    }
   },
   "outputs": [],
   "source": [
    "define_age = lambda x: 'old' if x > 60 else 'young'"
   ]
  },
  {
   "cell_type": "markdown",
   "metadata": {},
   "source": [
    "We can now apply this function on an entire Series:"
   ]
  },
  {
   "cell_type": "code",
   "execution_count": null,
   "metadata": {
    "ExecuteTime": {
     "end_time": "2020-06-24T15:19:19.576840Z",
     "start_time": "2020-06-24T15:19:19.558825Z"
    }
   },
   "outputs": [],
   "source": [
    "df['categorical age'] = df.age.apply(define_age)"
   ]
  },
  {
   "cell_type": "code",
   "execution_count": null,
   "metadata": {},
   "outputs": [],
   "source": [
    "df"
   ]
  },
  {
   "cell_type": "markdown",
   "metadata": {},
   "source": [
    "### Histogramming"
   ]
  },
  {
   "cell_type": "code",
   "execution_count": null,
   "metadata": {},
   "outputs": [],
   "source": [
    "df['categorical age'].value_counts()"
   ]
  },
  {
   "cell_type": "markdown",
   "metadata": {},
   "source": [
    "# Data Splitting\n",
    "\n",
    "Often Pandas tables mix regular variables (e.g. the size of cells in microscopy images) with categorical variables (e.g. the type of cell to which they belong). In that case, it is quite usual to split the data using the category to do computations. Pandas allows to do this very easily."
   ]
  },
  {
   "cell_type": "markdown",
   "metadata": {},
   "source": [
    "## Grouping"
   ]
  },
  {
   "cell_type": "code",
   "execution_count": null,
   "metadata": {},
   "outputs": [],
   "source": [
    "composers_df = pd.read_excel('data/composers.xlsx', index_col = 'composer', sheet_name='Sheet5')"
   ]
  },
  {
   "cell_type": "code",
   "execution_count": null,
   "metadata": {},
   "outputs": [],
   "source": [
    "composers_df"
   ]
  },
  {
   "cell_type": "code",
   "execution_count": null,
   "metadata": {
    "ExecuteTime": {
     "end_time": "2020-06-25T08:56:13.601372Z",
     "start_time": "2020-06-25T08:56:13.518195Z"
    },
    "scrolled": true
   },
   "outputs": [],
   "source": [
    "composers_df.head()"
   ]
  },
  {
   "cell_type": "markdown",
   "metadata": {},
   "source": [
    "What if we want now to count how many composers we have in each category? \n",
    "\n",
    "Pandas simplifies this with the `groupby()` function, which actually groups elements by a certain criteria, e.g. a categorical variable like the period:"
   ]
  },
  {
   "cell_type": "code",
   "execution_count": null,
   "metadata": {
    "ExecuteTime": {
     "end_time": "2020-06-25T08:57:05.723610Z",
     "start_time": "2020-06-25T08:57:05.693209Z"
    }
   },
   "outputs": [],
   "source": [
    "composer_grouped = composers_df.groupby('period')\n",
    "composer_grouped"
   ]
  },
  {
   "cell_type": "markdown",
   "metadata": {},
   "source": [
    "The output is a bit cryptic. What we actually have is a new object called *group* which has a lot of handy properties. First let's see what the groups actually are. As for the Dataframe, let's look at a summary of the object:"
   ]
  },
  {
   "cell_type": "code",
   "execution_count": null,
   "metadata": {
    "ExecuteTime": {
     "end_time": "2020-06-25T08:57:44.681494Z",
     "start_time": "2020-06-25T08:57:44.486278Z"
    }
   },
   "outputs": [],
   "source": [
    "composer_grouped.describe()"
   ]
  },
  {
   "cell_type": "markdown",
   "metadata": {},
   "source": [
    "So we have a dataframe with a statistical summary of the the contents. The \"names\" of the groups are here the indices of the Dataframe. These names are simply all the different categories that were present in the column we used for grouping. Now we can recover a single group:"
   ]
  },
  {
   "cell_type": "code",
   "execution_count": null,
   "metadata": {
    "ExecuteTime": {
     "end_time": "2020-06-25T08:58:36.933456Z",
     "start_time": "2020-06-25T08:58:36.907796Z"
    }
   },
   "outputs": [],
   "source": [
    "composer_grouped.get_group('baroque')"
   ]
  },
  {
   "cell_type": "markdown",
   "metadata": {},
   "source": [
    "If one has multiple categorical variables, one can also do a grouping on several levels. For example here we want to classify composers both by period and country. For this we just give two column names to the `groupby()` function:\n"
   ]
  },
  {
   "cell_type": "code",
   "execution_count": null,
   "metadata": {
    "ExecuteTime": {
     "end_time": "2020-06-25T08:59:41.133661Z",
     "start_time": "2020-06-25T08:59:41.051149Z"
    }
   },
   "outputs": [],
   "source": [
    "composer_grouped = composers_df.groupby(['period','country'])\n",
    "composer_grouped.get_group(('baroque','Germany'))"
   ]
  },
  {
   "cell_type": "markdown",
   "metadata": {},
   "source": [
    "The main advantage of this Group object is that it allows us to do very quickly both computations and plotting without having to loop through different categories. Indeed Pandas makes all the work for us: it applies functions on each group and then reassembles the results into a Dataframe (or Series depending on output).\n",
    "For example we can apply most functions we used for Dataframes (mean, sum etc.) on groups as well and Pandas seamlessly does the work for us."
   ]
  },
  {
   "cell_type": "markdown",
   "metadata": {},
   "source": [
    "## Plotting DataFrames\n",
    "\n",
    "Pandas builds on top of Matplotlib but exploits the knowledge included in Dataframes to improve the default output. \n",
    "\n",
    "We can pass Series to Matplotlib which manages to understand them. Here's a default scatter plot:"
   ]
  },
  {
   "cell_type": "code",
   "execution_count": 1,
   "metadata": {},
   "outputs": [],
   "source": [
    "import matplotlib.pyplot as plt\n",
    "import pandas as pd\n",
    "import numpy as np"
   ]
  },
  {
   "cell_type": "code",
   "execution_count": 2,
   "metadata": {},
   "outputs": [
    {
     "data": {
      "text/html": [
       "<div>\n",
       "<style scoped>\n",
       "    .dataframe tbody tr th:only-of-type {\n",
       "        vertical-align: middle;\n",
       "    }\n",
       "\n",
       "    .dataframe tbody tr th {\n",
       "        vertical-align: top;\n",
       "    }\n",
       "\n",
       "    .dataframe thead th {\n",
       "        text-align: right;\n",
       "    }\n",
       "</style>\n",
       "<table border=\"1\" class=\"dataframe\">\n",
       "  <thead>\n",
       "    <tr style=\"text-align: right;\">\n",
       "      <th></th>\n",
       "      <th>birth</th>\n",
       "      <th>death</th>\n",
       "      <th>period</th>\n",
       "      <th>country</th>\n",
       "    </tr>\n",
       "    <tr>\n",
       "      <th>composer</th>\n",
       "      <th></th>\n",
       "      <th></th>\n",
       "      <th></th>\n",
       "      <th></th>\n",
       "    </tr>\n",
       "  </thead>\n",
       "  <tbody>\n",
       "    <tr>\n",
       "      <th>Mahler</th>\n",
       "      <td>1860</td>\n",
       "      <td>1911.0</td>\n",
       "      <td>post-romantic</td>\n",
       "      <td>Austria</td>\n",
       "    </tr>\n",
       "    <tr>\n",
       "      <th>Beethoven</th>\n",
       "      <td>1770</td>\n",
       "      <td>1827.0</td>\n",
       "      <td>romantic</td>\n",
       "      <td>Germany</td>\n",
       "    </tr>\n",
       "    <tr>\n",
       "      <th>Puccini</th>\n",
       "      <td>1858</td>\n",
       "      <td>1924.0</td>\n",
       "      <td>post-romantic</td>\n",
       "      <td>Italy</td>\n",
       "    </tr>\n",
       "    <tr>\n",
       "      <th>Shostakovich</th>\n",
       "      <td>1906</td>\n",
       "      <td>1975.0</td>\n",
       "      <td>modern</td>\n",
       "      <td>Russia</td>\n",
       "    </tr>\n",
       "    <tr>\n",
       "      <th>Verdi</th>\n",
       "      <td>1813</td>\n",
       "      <td>1901.0</td>\n",
       "      <td>romantic</td>\n",
       "      <td>Italy</td>\n",
       "    </tr>\n",
       "    <tr>\n",
       "      <th>Dvorak</th>\n",
       "      <td>1841</td>\n",
       "      <td>1904.0</td>\n",
       "      <td>romantic</td>\n",
       "      <td>Czechia</td>\n",
       "    </tr>\n",
       "    <tr>\n",
       "      <th>Schumann</th>\n",
       "      <td>1810</td>\n",
       "      <td>1856.0</td>\n",
       "      <td>romantic</td>\n",
       "      <td>Germany</td>\n",
       "    </tr>\n",
       "    <tr>\n",
       "      <th>Stravinsky</th>\n",
       "      <td>1882</td>\n",
       "      <td>1971.0</td>\n",
       "      <td>modern</td>\n",
       "      <td>Russia</td>\n",
       "    </tr>\n",
       "    <tr>\n",
       "      <th>Sibelius</th>\n",
       "      <td>1865</td>\n",
       "      <td>1957.0</td>\n",
       "      <td>post-romantic</td>\n",
       "      <td>Finland</td>\n",
       "    </tr>\n",
       "    <tr>\n",
       "      <th>Haydn</th>\n",
       "      <td>1732</td>\n",
       "      <td>1809.0</td>\n",
       "      <td>classic</td>\n",
       "      <td>Austria</td>\n",
       "    </tr>\n",
       "    <tr>\n",
       "      <th>Mozart</th>\n",
       "      <td>1756</td>\n",
       "      <td>1791.0</td>\n",
       "      <td>classic</td>\n",
       "      <td>Austria</td>\n",
       "    </tr>\n",
       "    <tr>\n",
       "      <th>Messiaen</th>\n",
       "      <td>1908</td>\n",
       "      <td>1992.0</td>\n",
       "      <td>modern</td>\n",
       "      <td>France</td>\n",
       "    </tr>\n",
       "    <tr>\n",
       "      <th>Prokofiev</th>\n",
       "      <td>1891</td>\n",
       "      <td>1953.0</td>\n",
       "      <td>modern</td>\n",
       "      <td>RUssia</td>\n",
       "    </tr>\n",
       "    <tr>\n",
       "      <th>Monteverdi</th>\n",
       "      <td>1567</td>\n",
       "      <td>1643.0</td>\n",
       "      <td>renaissance</td>\n",
       "      <td>Italy</td>\n",
       "    </tr>\n",
       "    <tr>\n",
       "      <th>Haendel</th>\n",
       "      <td>1685</td>\n",
       "      <td>1759.0</td>\n",
       "      <td>baroque</td>\n",
       "      <td>Germany</td>\n",
       "    </tr>\n",
       "    <tr>\n",
       "      <th>Brahms</th>\n",
       "      <td>1833</td>\n",
       "      <td>1897.0</td>\n",
       "      <td>romantic</td>\n",
       "      <td>Germany</td>\n",
       "    </tr>\n",
       "    <tr>\n",
       "      <th>Purcell</th>\n",
       "      <td>1659</td>\n",
       "      <td>1695.0</td>\n",
       "      <td>baroque</td>\n",
       "      <td>England</td>\n",
       "    </tr>\n",
       "    <tr>\n",
       "      <th>Charpentier</th>\n",
       "      <td>1643</td>\n",
       "      <td>1704.0</td>\n",
       "      <td>baroque</td>\n",
       "      <td>France</td>\n",
       "    </tr>\n",
       "    <tr>\n",
       "      <th>Bruckner</th>\n",
       "      <td>1824</td>\n",
       "      <td>1896.0</td>\n",
       "      <td>post-romantic</td>\n",
       "      <td>Austria</td>\n",
       "    </tr>\n",
       "    <tr>\n",
       "      <th>Berg</th>\n",
       "      <td>1885</td>\n",
       "      <td>1935.0</td>\n",
       "      <td>modern</td>\n",
       "      <td>Austria</td>\n",
       "    </tr>\n",
       "    <tr>\n",
       "      <th>Couperin</th>\n",
       "      <td>1626</td>\n",
       "      <td>1661.0</td>\n",
       "      <td>baroque</td>\n",
       "      <td>France</td>\n",
       "    </tr>\n",
       "    <tr>\n",
       "      <th>Rameau</th>\n",
       "      <td>1683</td>\n",
       "      <td>1764.0</td>\n",
       "      <td>baroque</td>\n",
       "      <td>France</td>\n",
       "    </tr>\n",
       "    <tr>\n",
       "      <th>Berlioz</th>\n",
       "      <td>1803</td>\n",
       "      <td>1869.0</td>\n",
       "      <td>romantic</td>\n",
       "      <td>France</td>\n",
       "    </tr>\n",
       "    <tr>\n",
       "      <th>Gounod</th>\n",
       "      <td>1818</td>\n",
       "      <td>1893.0</td>\n",
       "      <td>romantic</td>\n",
       "      <td>France</td>\n",
       "    </tr>\n",
       "    <tr>\n",
       "      <th>Massenet</th>\n",
       "      <td>1842</td>\n",
       "      <td>1912.0</td>\n",
       "      <td>romantic</td>\n",
       "      <td>France</td>\n",
       "    </tr>\n",
       "    <tr>\n",
       "      <th>Boulez</th>\n",
       "      <td>1925</td>\n",
       "      <td>2016.0</td>\n",
       "      <td>modern</td>\n",
       "      <td>France</td>\n",
       "    </tr>\n",
       "    <tr>\n",
       "      <th>Palestrina</th>\n",
       "      <td>1525</td>\n",
       "      <td>1594.0</td>\n",
       "      <td>renaissance</td>\n",
       "      <td>Italy</td>\n",
       "    </tr>\n",
       "    <tr>\n",
       "      <th>Gesualdo</th>\n",
       "      <td>1566</td>\n",
       "      <td>1613.0</td>\n",
       "      <td>renaissance</td>\n",
       "      <td>Italy</td>\n",
       "    </tr>\n",
       "    <tr>\n",
       "      <th>Caldara</th>\n",
       "      <td>1670</td>\n",
       "      <td>1736.0</td>\n",
       "      <td>baroque</td>\n",
       "      <td>Italy</td>\n",
       "    </tr>\n",
       "    <tr>\n",
       "      <th>Pergolesi</th>\n",
       "      <td>1710</td>\n",
       "      <td>1736.0</td>\n",
       "      <td>baroque</td>\n",
       "      <td>Italy</td>\n",
       "    </tr>\n",
       "    <tr>\n",
       "      <th>Scarlatti</th>\n",
       "      <td>1685</td>\n",
       "      <td>1757.0</td>\n",
       "      <td>baroque</td>\n",
       "      <td>Italy</td>\n",
       "    </tr>\n",
       "    <tr>\n",
       "      <th>Caccini</th>\n",
       "      <td>1587</td>\n",
       "      <td>1640.0</td>\n",
       "      <td>baroque</td>\n",
       "      <td>Italy</td>\n",
       "    </tr>\n",
       "    <tr>\n",
       "      <th>Cimarosa</th>\n",
       "      <td>1749</td>\n",
       "      <td>1801.0</td>\n",
       "      <td>classic</td>\n",
       "      <td>Italy</td>\n",
       "    </tr>\n",
       "    <tr>\n",
       "      <th>Donizetti</th>\n",
       "      <td>1797</td>\n",
       "      <td>1848.0</td>\n",
       "      <td>romantic</td>\n",
       "      <td>Italy</td>\n",
       "    </tr>\n",
       "    <tr>\n",
       "      <th>Leoncavallo</th>\n",
       "      <td>1858</td>\n",
       "      <td>1919.0</td>\n",
       "      <td>romantic</td>\n",
       "      <td>Italy</td>\n",
       "    </tr>\n",
       "    <tr>\n",
       "      <th>Bellini</th>\n",
       "      <td>1801</td>\n",
       "      <td>1835.0</td>\n",
       "      <td>romantic</td>\n",
       "      <td>Italy</td>\n",
       "    </tr>\n",
       "    <tr>\n",
       "      <th>Dufay</th>\n",
       "      <td>1397</td>\n",
       "      <td>1474.0</td>\n",
       "      <td>renaissance</td>\n",
       "      <td>Belgium</td>\n",
       "    </tr>\n",
       "    <tr>\n",
       "      <th>Lassus</th>\n",
       "      <td>1532</td>\n",
       "      <td>1594.0</td>\n",
       "      <td>renaissance</td>\n",
       "      <td>Belgium</td>\n",
       "    </tr>\n",
       "    <tr>\n",
       "      <th>Borodin</th>\n",
       "      <td>1833</td>\n",
       "      <td>1887.0</td>\n",
       "      <td>romantic</td>\n",
       "      <td>Russia</td>\n",
       "    </tr>\n",
       "    <tr>\n",
       "      <th>Mussorsgsky</th>\n",
       "      <td>1839</td>\n",
       "      <td>1881.0</td>\n",
       "      <td>romantic</td>\n",
       "      <td>Russia</td>\n",
       "    </tr>\n",
       "    <tr>\n",
       "      <th>Soler</th>\n",
       "      <td>1754</td>\n",
       "      <td>1806.0</td>\n",
       "      <td>classic</td>\n",
       "      <td>Spain</td>\n",
       "    </tr>\n",
       "    <tr>\n",
       "      <th>Albeniz</th>\n",
       "      <td>1860</td>\n",
       "      <td>1909.0</td>\n",
       "      <td>romantic</td>\n",
       "      <td>Spain</td>\n",
       "    </tr>\n",
       "    <tr>\n",
       "      <th>Granados</th>\n",
       "      <td>1867</td>\n",
       "      <td>1916.0</td>\n",
       "      <td>romantic</td>\n",
       "      <td>Spain</td>\n",
       "    </tr>\n",
       "    <tr>\n",
       "      <th>Dowland</th>\n",
       "      <td>1563</td>\n",
       "      <td>1626.0</td>\n",
       "      <td>renaissance</td>\n",
       "      <td>England</td>\n",
       "    </tr>\n",
       "    <tr>\n",
       "      <th>Byrd</th>\n",
       "      <td>1540</td>\n",
       "      <td>1623.0</td>\n",
       "      <td>renaissance</td>\n",
       "      <td>England</td>\n",
       "    </tr>\n",
       "    <tr>\n",
       "      <th>Walton</th>\n",
       "      <td>1902</td>\n",
       "      <td>1983.0</td>\n",
       "      <td>modern</td>\n",
       "      <td>England</td>\n",
       "    </tr>\n",
       "    <tr>\n",
       "      <th>Adès</th>\n",
       "      <td>1971</td>\n",
       "      <td>NaN</td>\n",
       "      <td>modern</td>\n",
       "      <td>England</td>\n",
       "    </tr>\n",
       "    <tr>\n",
       "      <th>Bach</th>\n",
       "      <td>1685</td>\n",
       "      <td>1750.0</td>\n",
       "      <td>baroque</td>\n",
       "      <td>Germany</td>\n",
       "    </tr>\n",
       "    <tr>\n",
       "      <th>Wagner</th>\n",
       "      <td>1813</td>\n",
       "      <td>1883.0</td>\n",
       "      <td>romantic</td>\n",
       "      <td>Germany</td>\n",
       "    </tr>\n",
       "    <tr>\n",
       "      <th>Strauss</th>\n",
       "      <td>1864</td>\n",
       "      <td>1949.0</td>\n",
       "      <td>post-romantic</td>\n",
       "      <td>Germany</td>\n",
       "    </tr>\n",
       "    <tr>\n",
       "      <th>Orff</th>\n",
       "      <td>1895</td>\n",
       "      <td>1982.0</td>\n",
       "      <td>modern</td>\n",
       "      <td>Germany</td>\n",
       "    </tr>\n",
       "    <tr>\n",
       "      <th>Dusek</th>\n",
       "      <td>1731</td>\n",
       "      <td>1799.0</td>\n",
       "      <td>classic</td>\n",
       "      <td>Czechia</td>\n",
       "    </tr>\n",
       "    <tr>\n",
       "      <th>Smetana</th>\n",
       "      <td>1824</td>\n",
       "      <td>1884.0</td>\n",
       "      <td>romantic</td>\n",
       "      <td>Czechia</td>\n",
       "    </tr>\n",
       "    <tr>\n",
       "      <th>Janacek</th>\n",
       "      <td>1854</td>\n",
       "      <td>1928.0</td>\n",
       "      <td>modern</td>\n",
       "      <td>Czechia</td>\n",
       "    </tr>\n",
       "    <tr>\n",
       "      <th>Copland</th>\n",
       "      <td>1900</td>\n",
       "      <td>1990.0</td>\n",
       "      <td>modern</td>\n",
       "      <td>USA</td>\n",
       "    </tr>\n",
       "    <tr>\n",
       "      <th>Bernstein</th>\n",
       "      <td>1918</td>\n",
       "      <td>1990.0</td>\n",
       "      <td>modern</td>\n",
       "      <td>USA</td>\n",
       "    </tr>\n",
       "    <tr>\n",
       "      <th>Glass</th>\n",
       "      <td>1937</td>\n",
       "      <td>NaN</td>\n",
       "      <td>modern</td>\n",
       "      <td>USA</td>\n",
       "    </tr>\n",
       "  </tbody>\n",
       "</table>\n",
       "</div>"
      ],
      "text/plain": [
       "              birth   death         period  country\n",
       "composer                                           \n",
       "Mahler         1860  1911.0  post-romantic  Austria\n",
       "Beethoven      1770  1827.0       romantic  Germany\n",
       "Puccini        1858  1924.0  post-romantic    Italy\n",
       "Shostakovich   1906  1975.0         modern   Russia\n",
       "Verdi          1813  1901.0       romantic    Italy\n",
       "Dvorak         1841  1904.0       romantic  Czechia\n",
       "Schumann       1810  1856.0       romantic  Germany\n",
       "Stravinsky     1882  1971.0         modern   Russia\n",
       "Sibelius       1865  1957.0  post-romantic  Finland\n",
       "Haydn          1732  1809.0        classic  Austria\n",
       "Mozart         1756  1791.0        classic  Austria\n",
       "Messiaen       1908  1992.0         modern   France\n",
       "Prokofiev      1891  1953.0         modern   RUssia\n",
       "Monteverdi     1567  1643.0    renaissance    Italy\n",
       "Haendel        1685  1759.0        baroque  Germany\n",
       "Brahms         1833  1897.0       romantic  Germany\n",
       "Purcell        1659  1695.0        baroque  England\n",
       "Charpentier    1643  1704.0        baroque   France\n",
       "Bruckner       1824  1896.0  post-romantic  Austria\n",
       "Berg           1885  1935.0         modern  Austria\n",
       "Couperin       1626  1661.0        baroque   France\n",
       "Rameau         1683  1764.0        baroque   France\n",
       "Berlioz        1803  1869.0       romantic   France\n",
       "Gounod         1818  1893.0       romantic   France\n",
       "Massenet       1842  1912.0       romantic   France\n",
       "Boulez         1925  2016.0         modern   France\n",
       "Palestrina     1525  1594.0    renaissance    Italy\n",
       "Gesualdo       1566  1613.0    renaissance    Italy\n",
       "Caldara        1670  1736.0        baroque    Italy\n",
       "Pergolesi      1710  1736.0        baroque    Italy\n",
       "Scarlatti      1685  1757.0        baroque    Italy\n",
       "Caccini        1587  1640.0        baroque    Italy\n",
       "Cimarosa       1749  1801.0        classic    Italy\n",
       "Donizetti      1797  1848.0       romantic    Italy\n",
       "Leoncavallo    1858  1919.0       romantic    Italy\n",
       "Bellini        1801  1835.0       romantic    Italy\n",
       "Dufay          1397  1474.0    renaissance  Belgium\n",
       "Lassus         1532  1594.0    renaissance  Belgium\n",
       "Borodin        1833  1887.0       romantic   Russia\n",
       "Mussorsgsky    1839  1881.0       romantic   Russia\n",
       "Soler          1754  1806.0        classic    Spain\n",
       "Albeniz        1860  1909.0       romantic    Spain\n",
       "Granados       1867  1916.0       romantic    Spain\n",
       "Dowland        1563  1626.0    renaissance  England\n",
       "Byrd           1540  1623.0    renaissance  England\n",
       "Walton         1902  1983.0         modern  England\n",
       "Adès           1971     NaN         modern  England\n",
       "Bach           1685  1750.0        baroque  Germany\n",
       "Wagner         1813  1883.0       romantic  Germany\n",
       "Strauss        1864  1949.0  post-romantic  Germany\n",
       "Orff           1895  1982.0         modern  Germany\n",
       "Dusek          1731  1799.0        classic  Czechia\n",
       "Smetana        1824  1884.0       romantic  Czechia\n",
       "Janacek        1854  1928.0         modern  Czechia\n",
       "Copland        1900  1990.0         modern      USA\n",
       "Bernstein      1918  1990.0         modern      USA\n",
       "Glass          1937     NaN         modern      USA"
      ]
     },
     "execution_count": 2,
     "metadata": {},
     "output_type": "execute_result"
    }
   ],
   "source": [
    "composers_df = pd.read_excel('data/composers.xlsx', index_col = 'composer', sheet_name='Sheet5')\n",
    "composers_df"
   ]
  },
  {
   "cell_type": "code",
   "execution_count": 3,
   "metadata": {},
   "outputs": [
    {
     "data": {
      "image/png": "[encoded data removed]",
      "text/plain": [
       "<Figure size 432x288 with 1 Axes>"
      ]
     },
     "metadata": {
      "needs_background": "light"
     },
     "output_type": "display_data"
    }
   ],
   "source": [
    "plt.plot(composers_df.birth, composers_df.death, 'o')\n",
    "plt.show()"
   ]
  },
  {
   "cell_type": "markdown",
   "metadata": {},
   "source": [
    "Different types of plots are accessible when using the `plot` function of DataFrame instances via the `kind` option. The variables to plot are column names passed as keywords instead of whole series like in Matplotlib:"
   ]
  },
  {
   "cell_type": "code",
   "execution_count": 4,
   "metadata": {},
   "outputs": [
    {
     "data": {
      "image/png": "[encoded data removed]",
      "text/plain": [
       "<Figure size 432x288 with 1 Axes>"
      ]
     },
     "metadata": {
      "needs_background": "light"
     },
     "output_type": "display_data"
    }
   ],
   "source": [
    "composers_df.plot(x = 'birth', y = 'death', kind = 'scatter')\n",
    "plt.show()"
   ]
  },
  {
   "cell_type": "code",
   "execution_count": 5,
   "metadata": {},
   "outputs": [
    {
     "data": {
      "image/png": "[encoded data removed]",
      "text/plain": [
       "<Figure size 432x288 with 1 Axes>"
      ]
     },
     "metadata": {
      "needs_background": "light"
     },
     "output_type": "display_data"
    }
   ],
   "source": [
    "composers_df.plot(x = 'birth', y = 'death', kind = 'scatter',\n",
    "                  title = 'Composer birth and death', grid = True, fontsize = 15)\n",
    "plt.show()"
   ]
  },
  {
   "cell_type": "markdown",
   "metadata": {},
   "source": [
    "Some additional plotting options are available in the plot() module. For example histograms:"
   ]
  },
  {
   "cell_type": "code",
   "execution_count": 6,
   "metadata": {},
   "outputs": [
    {
     "data": {
      "image/png": "[encoded data removed]",
      "text/plain": [
       "<Figure size 432x288 with 1 Axes>"
      ]
     },
     "metadata": {
      "needs_background": "light"
     },
     "output_type": "display_data"
    }
   ],
   "source": [
    "composers_df.plot.hist(alpha = 0.5)\n",
    "plt.show()"
   ]
  },
  {
   "cell_type": "markdown",
   "metadata": {},
   "source": [
    "Here you see again the gain from using Pandas: without specifying anything, Pandas made a histogram of the two columns containing numbers, labelled the axis and even added a legend to the plot."
   ]
  },
  {
   "cell_type": "code",
   "execution_count": 7,
   "metadata": {
    "scrolled": true
   },
   "outputs": [
    {
     "data": {
      "image/png": "[encoded data removed]",
      "text/plain": [
       "<Figure size 432x288 with 1 Axes>"
      ]
     },
     "metadata": {
      "needs_background": "light"
     },
     "output_type": "display_data"
    }
   ],
   "source": [
    "composers_df['birth'].plot.hist(bins = 20)\n",
    "plt.show()"
   ]
  },
  {
   "cell_type": "code",
   "execution_count": 8,
   "metadata": {
    "scrolled": true
   },
   "outputs": [
    {
     "data": {
      "image/png": "[encoded data removed]",
      "text/plain": [
       "<Figure size 432x288 with 1 Axes>"
      ]
     },
     "metadata": {
      "needs_background": "light"
     },
     "output_type": "display_data"
    }
   ],
   "source": [
    "composers_df.boxplot(column = 'birth')\n",
    "plt.show()"
   ]
  },
  {
   "cell_type": "markdown",
   "metadata": {},
   "source": [
    "# Matplotlib\n",
    "\n",
    "recommended reading: \n",
    "- [Sample plots in Matplotlib](https://matplotlib.org/stable/gallery/index.html)\n",
    "\n",
    "Matplotlib is an excellent 2D and 3D graphics library for generating scientific figures. Some of the many advantages of this library include:\n",
    "* Easy to get started\n",
    "* Support for $\\LaTeX$ formatted labels and texts\n",
    "* Great control of every element in a figure, including figure size and DPI.\n",
    "* High-quality output in many formats, including PNG, PDF, SVG, EPS, and PGF.\n",
    "* The figure can be controlled programmatically."
   ]
  },
  {
   "cell_type": "code",
   "execution_count": 9,
   "metadata": {},
   "outputs": [],
   "source": [
    "t = np.arange(0,10,0.1)\n",
    "sin_t = np.sin(2*np.pi*t/5)\n",
    "cos_t = np.cos(2*np.pi*t/5)\n"
   ]
  },
  {
   "cell_type": "code",
   "execution_count": 10,
   "metadata": {},
   "outputs": [
    {
     "data": {
      "text/plain": [
       "[<matplotlib.lines.Line2D at 0x1fa9422a940>]"
      ]
     },
     "execution_count": 10,
     "metadata": {},
     "output_type": "execute_result"
    },
    {
     "data": {
      "image/png": "[encoded data removed]",
      "text/plain": [
       "<Figure size 432x288 with 1 Axes>"
      ]
     },
     "metadata": {
      "needs_background": "light"
     },
     "output_type": "display_data"
    }
   ],
   "source": [
    "plt.plot(t,cos_t)\n",
    "plt.plot(t,sin_t)"
   ]
  },
  {
   "cell_type": "code",
   "execution_count": 11,
   "metadata": {},
   "outputs": [
    {
     "data": {
      "image/png": "[encoded data removed]",
      "text/plain": [
       "<Figure size 432x288 with 1 Axes>"
      ]
     },
     "metadata": {
      "needs_background": "light"
     },
     "output_type": "display_data"
    }
   ],
   "source": [
    "plt.plot(t,cos_t,'.r', label = r\"$cos(\\theta)$\")\n",
    "plt.plot(t,sin_t,'--g', label = r\"$sin(\\theta)$\")\n",
    "plt.title('two functions')\n",
    "plt.xlabel(r\"$\\theta$\")\n",
    "plt.ylabel('values')\n",
    "plt.ylim([-1.1,1.1])\n",
    "plt.legend()\n",
    "plt.grid(axis = 'y')\n",
    "\n",
    "# plt.legend(loc=0) # let matplotlib decide the optimal location\n",
    "# plt.legend(loc=1) # upper right corner\n",
    "# plt.legend(loc=2) # upper left corner\n",
    "# plt.legend(loc=3) # lower left corner\n",
    "# plt.legend(loc=4) # lower right corner\n",
    "# # .. many more options are available\n",
    "\n",
    "plt.savefig('img/example_figure.png', format = 'png')\n",
    "plt.show()"
   ]
  },
  {
   "cell_type": "code",
   "execution_count": 12,
   "metadata": {},
   "outputs": [
    {
     "data": {
      "image/png": "[encoded data removed]",
      "text/plain": [
       "<Figure size 432x288 with 2 Axes>"
      ]
     },
     "metadata": {
      "needs_background": "light"
     },
     "output_type": "display_data"
    }
   ],
   "source": [
    "# Two subplots, the axes array is 1-d\n",
    "f, axarr = plt.subplots(2, sharex=True)\n",
    "axarr[0].plot(t,cos_t,'.r')\n",
    "axarr[1].plot(t,sin_t,'.b')\n",
    "plt.tight_layout()\n",
    "plt.show()"
   ]
  },
  {
   "cell_type": "code",
   "execution_count": 13,
   "metadata": {},
   "outputs": [],
   "source": [
    "x = np.linspace(0, 5, 11)"
   ]
  },
  {
   "cell_type": "code",
   "execution_count": 17,
   "metadata": {},
   "outputs": [
    {
     "data": {
      "application/javascript": [
       "/* Put everything inside the global mpl namespace */\n",
       "/* global mpl */\n",
       "window.mpl = {};\n",
       "\n",
       "mpl.get_websocket_type = function () {\n",
       "    if (typeof WebSocket !== 'undefined') {\n",
       "        return WebSocket;\n",
       "    } else if (typeof MozWebSocket !== 'undefined') {\n",
       "        return MozWebSocket;\n",
       "    } else {\n",
       "        alert(\n",
       "            'Your browser does not have WebSocket support. ' +\n",
       "                'Please try Chrome, Safari or Firefox ≥ 6. ' +\n",
       "                'Firefox 4 and 5 are also supported but you ' +\n",
       "                'have to enable WebSockets in about:config.'\n",
       "        );\n",
       "    }\n",
       "};\n",
       "\n",
       "mpl.figure = function (figure_id, websocket, ondownload, parent_element) {\n",
       "    this.id = figure_id;\n",
       "\n",
       "    this.ws = websocket;\n",
       "\n",
       "    this.supports_binary = this.ws.binaryType !== undefined;\n",
       "\n",
       "    if (!this.supports_binary) {\n",
       "        var warnings = document.getElementById('mpl-warnings');\n",
       "        if (warnings) {\n",
       "            warnings.style.display = 'block';\n",
       "            warnings.textContent =\n",
       "                'This browser does not support binary websocket messages. ' +\n",
       "                'Performance may be slow.';\n",
       "        }\n",
       "    }\n",
       "\n",
       "    this.imageObj = new Image();\n",
       "\n",
       "    this.context = undefined;\n",
       "    this.message = undefined;\n",
       "    this.canvas = undefined;\n",
       "    this.rubberband_canvas = undefined;\n",
       "    this.rubberband_context = undefined;\n",
       "    this.format_dropdown = undefined;\n",
       "\n",
       "    this.image_mode = 'full';\n",
       "\n",
       "    this.root = document.createElement('div');\n",
       "    this.root.setAttribute('style', 'display: inline-block');\n",
       "    this._root_extra_style(this.root);\n",
       "\n",
       "    parent_element.appendChild(this.root);\n",
       "\n",
       "    this._init_header(this);\n",
       "    this._init_canvas(this);\n",
       "    this._init_toolbar(this);\n",
       "\n",
       "    var fig = this;\n",
       "\n",
       "    this.waiting = false;\n",
       "\n",
       "    this.ws.onopen = function () {\n",
       "        fig.send_message('supports_binary', { value: fig.supports_binary });\n",
       "        fig.send_message('send_image_mode', {});\n",
       "        if (fig.ratio !== 1) {\n",
       "            fig.send_message('set_dpi_ratio', { dpi_ratio: fig.ratio });\n",
       "        }\n",
       "        fig.send_message('refresh', {});\n",
       "    };\n",
       "\n",
       "    this.imageObj.onload = function () {\n",
       "        if (fig.image_mode === 'full') {\n",
       "            // Full images could contain transparency (where diff images\n",
       "            // almost always do), so we need to clear the canvas so that\n",
       "            // there is no ghosting.\n",
       "            fig.context.clearRect(0, 0, fig.canvas.width, fig.canvas.height);\n",
       "        }\n",
       "        fig.context.drawImage(fig.imageObj, 0, 0);\n",
       "    };\n",
       "\n",
       "    this.imageObj.onunload = function () {\n",
       "        fig.ws.close();\n",
       "    };\n",
       "\n",
       "    this.ws.onmessage = this._make_on_message_function(this);\n",
       "\n",
       "    this.ondownload = ondownload;\n",
       "};\n",
       "\n",
       "mpl.figure.prototype._init_header = function () {\n",
       "    var titlebar = document.createElement('div');\n",
       "    titlebar.classList =\n",
       "        'ui-dialog-titlebar ui-widget-header ui-corner-all ui-helper-clearfix';\n",
       "    var titletext = document.createElement('div');\n",
       "    titletext.classList = 'ui-dialog-title';\n",
       "    titletext.setAttribute(\n",
       "        'style',\n",
       "        'width: 100%; text-align: center; padding: 3px;'\n",
       "    );\n",
       "    titlebar.appendChild(titletext);\n",
       "    this.root.appendChild(titlebar);\n",
       "    this.header = titletext;\n",
       "};\n",
       "\n",
       "mpl.figure.prototype._canvas_extra_style = function (_canvas_div) {};\n",
       "\n",
       "mpl.figure.prototype._root_extra_style = function (_canvas_div) {};\n",
       "\n",
       "mpl.figure.prototype._init_canvas = function () {\n",
       "    var fig = this;\n",
       "\n",
       "    var canvas_div = (this.canvas_div = document.createElement('div'));\n",
       "    canvas_div.setAttribute(\n",
       "        'style',\n",
       "        'border: 1px solid #ddd;' +\n",
       "            'box-sizing: content-box;' +\n",
       "            'clear: both;' +\n",
       "            'min-height: 1px;' +\n",
       "            'min-width: 1px;' +\n",
       "            'outline: 0;' +\n",
       "            'overflow: hidden;' +\n",
       "            'position: relative;' +\n",
       "            'resize: both;'\n",
       "    );\n",
       "\n",
       "    function on_keyboard_event_closure(name) {\n",
       "        return function (event) {\n",
       "            return fig.key_event(event, name);\n",
       "        };\n",
       "    }\n",
       "\n",
       "    canvas_div.addEventListener(\n",
       "        'keydown',\n",
       "        on_keyboard_event_closure('key_press')\n",
       "    );\n",
       "    canvas_div.addEventListener(\n",
       "        'keyup',\n",
       "        on_keyboard_event_closure('key_release')\n",
       "    );\n",
       "\n",
       "    this._canvas_extra_style(canvas_div);\n",
       "    this.root.appendChild(canvas_div);\n",
       "\n",
       "    var canvas = (this.canvas = document.createElement('canvas'));\n",
       "    canvas.classList.add('mpl-canvas');\n",
       "    canvas.setAttribute('style', 'box-sizing: content-box;');\n",
       "\n",
       "    this.context = canvas.getContext('2d');\n",
       "\n",
       "    var backingStore =\n",
       "        this.context.backingStorePixelRatio ||\n",
       "        this.context.webkitBackingStorePixelRatio ||\n",
       "        this.context.mozBackingStorePixelRatio ||\n",
       "        this.context.msBackingStorePixelRatio ||\n",
       "        this.context.oBackingStorePixelRatio ||\n",
       "        this.context.backingStorePixelRatio ||\n",
       "        1;\n",
       "\n",
       "    this.ratio = (window.devicePixelRatio || 1) / backingStore;\n",
       "\n",
       "    var rubberband_canvas = (this.rubberband_canvas = document.createElement(\n",
       "        'canvas'\n",
       "    ));\n",
       "    rubberband_canvas.setAttribute(\n",
       "        'style',\n",
       "        'box-sizing: content-box; position: absolute; left: 0; top: 0; z-index: 1;'\n",
       "    );\n",
       "\n",
       "    // Apply a ponyfill if ResizeObserver is not implemented by browser.\n",
       "    if (this.ResizeObserver === undefined) {\n",
       "        if (window.ResizeObserver !== undefined) {\n",
       "            this.ResizeObserver = window.ResizeObserver;\n",
       "        } else {\n",
       "            var obs = _JSXTOOLS_RESIZE_OBSERVER({});\n",
       "            this.ResizeObserver = obs.ResizeObserver;\n",
       "        }\n",
       "    }\n",
       "\n",
       "    this.resizeObserverInstance = new this.ResizeObserver(function (entries) {\n",
       "        var nentries = entries.length;\n",
       "        for (var i = 0; i < nentries; i++) {\n",
       "            var entry = entries[i];\n",
       "            var width, height;\n",
       "            if (entry.contentBoxSize) {\n",
       "                if (entry.contentBoxSize instanceof Array) {\n",
       "                    // Chrome 84 implements new version of spec.\n",
       "                    width = entry.contentBoxSize[0].inlineSize;\n",
       "                    height = entry.contentBoxSize[0].blockSize;\n",
       "                } else {\n",
       "                    // Firefox implements old version of spec.\n",
       "                    width = entry.contentBoxSize.inlineSize;\n",
       "                    height = entry.contentBoxSize.blockSize;\n",
       "                }\n",
       "            } else {\n",
       "                // Chrome <84 implements even older version of spec.\n",
       "                width = entry.contentRect.width;\n",
       "                height = entry.contentRect.height;\n",
       "            }\n",
       "\n",
       "            // Keep the size of the canvas and rubber band canvas in sync with\n",
       "            // the canvas container.\n",
       "            if (entry.devicePixelContentBoxSize) {\n",
       "                // Chrome 84 implements new version of spec.\n",
       "                canvas.setAttribute(\n",
       "                    'width',\n",
       "                    entry.devicePixelContentBoxSize[0].inlineSize\n",
       "                );\n",
       "                canvas.setAttribute(\n",
       "                    'height',\n",
       "                    entry.devicePixelContentBoxSize[0].blockSize\n",
       "                );\n",
       "            } else {\n",
       "                canvas.setAttribute('width', width * fig.ratio);\n",
       "                canvas.setAttribute('height', height * fig.ratio);\n",
       "            }\n",
       "            canvas.setAttribute(\n",
       "                'style',\n",
       "                'width: ' + width + 'px; height: ' + height + 'px;'\n",
       "            );\n",
       "\n",
       "            rubberband_canvas.setAttribute('width', width);\n",
       "            rubberband_canvas.setAttribute('height', height);\n",
       "\n",
       "            // And update the size in Python. We ignore the initial 0/0 size\n",
       "            // that occurs as the element is placed into the DOM, which should\n",
       "            // otherwise not happen due to the minimum size styling.\n",
       "            if (fig.ws.readyState == 1 && width != 0 && height != 0) {\n",
       "                fig.request_resize(width, height);\n",
       "            }\n",
       "        }\n",
       "    });\n",
       "    this.resizeObserverInstance.observe(canvas_div);\n",
       "\n",
       "    function on_mouse_event_closure(name) {\n",
       "        return function (event) {\n",
       "            return fig.mouse_event(event, name);\n",
       "        };\n",
       "    }\n",
       "\n",
       "    rubberband_canvas.addEventListener(\n",
       "        'mousedown',\n",
       "        on_mouse_event_closure('button_press')\n",
       "    );\n",
       "    rubberband_canvas.addEventListener(\n",
       "        'mouseup',\n",
       "        on_mouse_event_closure('button_release')\n",
       "    );\n",
       "    rubberband_canvas.addEventListener(\n",
       "        'dblclick',\n",
       "        on_mouse_event_closure('dblclick')\n",
       "    );\n",
       "    // Throttle sequential mouse events to 1 every 20ms.\n",
       "    rubberband_canvas.addEventListener(\n",
       "        'mousemove',\n",
       "        on_mouse_event_closure('motion_notify')\n",
       "    );\n",
       "\n",
       "    rubberband_canvas.addEventListener(\n",
       "        'mouseenter',\n",
       "        on_mouse_event_closure('figure_enter')\n",
       "    );\n",
       "    rubberband_canvas.addEventListener(\n",
       "        'mouseleave',\n",
       "        on_mouse_event_closure('figure_leave')\n",
       "    );\n",
       "\n",
       "    canvas_div.addEventListener('wheel', function (event) {\n",
       "        if (event.deltaY < 0) {\n",
       "            event.step = 1;\n",
       "        } else {\n",
       "            event.step = -1;\n",
       "        }\n",
       "        on_mouse_event_closure('scroll')(event);\n",
       "    });\n",
       "\n",
       "    canvas_div.appendChild(canvas);\n",
       "    canvas_div.appendChild(rubberband_canvas);\n",
       "\n",
       "    this.rubberband_context = rubberband_canvas.getContext('2d');\n",
       "    this.rubberband_context.strokeStyle = '#000000';\n",
       "\n",
       "    this._resize_canvas = function (width, height, forward) {\n",
       "        if (forward) {\n",
       "            canvas_div.style.width = width + 'px';\n",
       "            canvas_div.style.height = height + 'px';\n",
       "        }\n",
       "    };\n",
       "\n",
       "    // Disable right mouse context menu.\n",
       "    this.rubberband_canvas.addEventListener('contextmenu', function (_e) {\n",
       "        event.preventDefault();\n",
       "        return false;\n",
       "    });\n",
       "\n",
       "    function set_focus() {\n",
       "        canvas.focus();\n",
       "        canvas_div.focus();\n",
       "    }\n",
       "\n",
       "    window.setTimeout(set_focus, 100);\n",
       "};\n",
       "\n",
       "mpl.figure.prototype._init_toolbar = function () {\n",
       "    var fig = this;\n",
       "\n",
       "    var toolbar = document.createElement('div');\n",
       "    toolbar.classList = 'mpl-toolbar';\n",
       "    this.root.appendChild(toolbar);\n",
       "\n",
       "    function on_click_closure(name) {\n",
       "        return function (_event) {\n",
       "            return fig.toolbar_button_onclick(name);\n",
       "        };\n",
       "    }\n",
       "\n",
       "    function on_mouseover_closure(tooltip) {\n",
       "        return function (event) {\n",
       "            if (!event.currentTarget.disabled) {\n",
       "                return fig.toolbar_button_onmouseover(tooltip);\n",
       "            }\n",
       "        };\n",
       "    }\n",
       "\n",
       "    fig.buttons = {};\n",
       "    var buttonGroup = document.createElement('div');\n",
       "    buttonGroup.classList = 'mpl-button-group';\n",
       "    for (var toolbar_ind in mpl.toolbar_items) {\n",
       "        var name = mpl.toolbar_items[toolbar_ind][0];\n",
       "        var tooltip = mpl.toolbar_items[toolbar_ind][1];\n",
       "        var image = mpl.toolbar_items[toolbar_ind][2];\n",
       "        var method_name = mpl.toolbar_items[toolbar_ind][3];\n",
       "\n",
       "        if (!name) {\n",
       "            /* Instead of a spacer, we start a new button group. */\n",
       "            if (buttonGroup.hasChildNodes()) {\n",
       "                toolbar.appendChild(buttonGroup);\n",
       "            }\n",
       "            buttonGroup = document.createElement('div');\n",
       "            buttonGroup.classList = 'mpl-button-group';\n",
       "            continue;\n",
       "        }\n",
       "\n",
       "        var button = (fig.buttons[name] = document.createElement('button'));\n",
       "        button.classList = 'mpl-widget';\n",
       "        button.setAttribute('role', 'button');\n",
       "        button.setAttribute('aria-disabled', 'false');\n",
       "        button.addEventListener('click', on_click_closure(method_name));\n",
       "        button.addEventListener('mouseover', on_mouseover_closure(tooltip));\n",
       "\n",
       "        var icon_img = document.createElement('img');\n",
       "        icon_img.src = '_images/' + image + '.png';\n",
       "        icon_img.srcset = '_images/' + image + '_large.png 2x';\n",
       "        icon_img.alt = tooltip;\n",
       "        button.appendChild(icon_img);\n",
       "\n",
       "        buttonGroup.appendChild(button);\n",
       "    }\n",
       "\n",
       "    if (buttonGroup.hasChildNodes()) {\n",
       "        toolbar.appendChild(buttonGroup);\n",
       "    }\n",
       "\n",
       "    var fmt_picker = document.createElement('select');\n",
       "    fmt_picker.classList = 'mpl-widget';\n",
       "    toolbar.appendChild(fmt_picker);\n",
       "    this.format_dropdown = fmt_picker;\n",
       "\n",
       "    for (var ind in mpl.extensions) {\n",
       "        var fmt = mpl.extensions[ind];\n",
       "        var option = document.createElement('option');\n",
       "        option.selected = fmt === mpl.default_extension;\n",
       "        option.innerHTML = fmt;\n",
       "        fmt_picker.appendChild(option);\n",
       "    }\n",
       "\n",
       "    var status_bar = document.createElement('span');\n",
       "    status_bar.classList = 'mpl-message';\n",
       "    toolbar.appendChild(status_bar);\n",
       "    this.message = status_bar;\n",
       "};\n",
       "\n",
       "mpl.figure.prototype.request_resize = function (x_pixels, y_pixels) {\n",
       "    // Request matplotlib to resize the figure. Matplotlib will then trigger a resize in the client,\n",
       "    // which will in turn request a refresh of the image.\n",
       "    this.send_message('resize', { width: x_pixels, height: y_pixels });\n",
       "};\n",
       "\n",
       "mpl.figure.prototype.send_message = function (type, properties) {\n",
       "    properties['type'] = type;\n",
       "    properties['figure_id'] = this.id;\n",
       "    this.ws.send(JSON.stringify(properties));\n",
       "};\n",
       "\n",
       "mpl.figure.prototype.send_draw_message = function () {\n",
       "    if (!this.waiting) {\n",
       "        this.waiting = true;\n",
       "        this.ws.send(JSON.stringify({ type: 'draw', figure_id: this.id }));\n",
       "    }\n",
       "};\n",
       "\n",
       "mpl.figure.prototype.handle_save = function (fig, _msg) {\n",
       "    var format_dropdown = fig.format_dropdown;\n",
       "    var format = format_dropdown.options[format_dropdown.selectedIndex].value;\n",
       "    fig.ondownload(fig, format);\n",
       "};\n",
       "\n",
       "mpl.figure.prototype.handle_resize = function (fig, msg) {\n",
       "    var size = msg['size'];\n",
       "    if (size[0] !== fig.canvas.width || size[1] !== fig.canvas.height) {\n",
       "        fig._resize_canvas(size[0], size[1], msg['forward']);\n",
       "        fig.send_message('refresh', {});\n",
       "    }\n",
       "};\n",
       "\n",
       "mpl.figure.prototype.handle_rubberband = function (fig, msg) {\n",
       "    var x0 = msg['x0'] / fig.ratio;\n",
       "    var y0 = (fig.canvas.height - msg['y0']) / fig.ratio;\n",
       "    var x1 = msg['x1'] / fig.ratio;\n",
       "    var y1 = (fig.canvas.height - msg['y1']) / fig.ratio;\n",
       "    x0 = Math.floor(x0) + 0.5;\n",
       "    y0 = Math.floor(y0) + 0.5;\n",
       "    x1 = Math.floor(x1) + 0.5;\n",
       "    y1 = Math.floor(y1) + 0.5;\n",
       "    var min_x = Math.min(x0, x1);\n",
       "    var min_y = Math.min(y0, y1);\n",
       "    var width = Math.abs(x1 - x0);\n",
       "    var height = Math.abs(y1 - y0);\n",
       "\n",
       "    fig.rubberband_context.clearRect(\n",
       "        0,\n",
       "        0,\n",
       "        fig.canvas.width / fig.ratio,\n",
       "        fig.canvas.height / fig.ratio\n",
       "    );\n",
       "\n",
       "    fig.rubberband_context.strokeRect(min_x, min_y, width, height);\n",
       "};\n",
       "\n",
       "mpl.figure.prototype.handle_figure_label = function (fig, msg) {\n",
       "    // Updates the figure title.\n",
       "    fig.header.textContent = msg['label'];\n",
       "};\n",
       "\n",
       "mpl.figure.prototype.handle_cursor = function (fig, msg) {\n",
       "    var cursor = msg['cursor'];\n",
       "    switch (cursor) {\n",
       "        case 0:\n",
       "            cursor = 'pointer';\n",
       "            break;\n",
       "        case 1:\n",
       "            cursor = 'default';\n",
       "            break;\n",
       "        case 2:\n",
       "            cursor = 'crosshair';\n",
       "            break;\n",
       "        case 3:\n",
       "            cursor = 'move';\n",
       "            break;\n",
       "    }\n",
       "    fig.rubberband_canvas.style.cursor = cursor;\n",
       "};\n",
       "\n",
       "mpl.figure.prototype.handle_message = function (fig, msg) {\n",
       "    fig.message.textContent = msg['message'];\n",
       "};\n",
       "\n",
       "mpl.figure.prototype.handle_draw = function (fig, _msg) {\n",
       "    // Request the server to send over a new figure.\n",
       "    fig.send_draw_message();\n",
       "};\n",
       "\n",
       "mpl.figure.prototype.handle_image_mode = function (fig, msg) {\n",
       "    fig.image_mode = msg['mode'];\n",
       "};\n",
       "\n",
       "mpl.figure.prototype.handle_history_buttons = function (fig, msg) {\n",
       "    for (var key in msg) {\n",
       "        if (!(key in fig.buttons)) {\n",
       "            continue;\n",
       "        }\n",
       "        fig.buttons[key].disabled = !msg[key];\n",
       "        fig.buttons[key].setAttribute('aria-disabled', !msg[key]);\n",
       "    }\n",
       "};\n",
       "\n",
       "mpl.figure.prototype.handle_navigate_mode = function (fig, msg) {\n",
       "    if (msg['mode'] === 'PAN') {\n",
       "        fig.buttons['Pan'].classList.add('active');\n",
       "        fig.buttons['Zoom'].classList.remove('active');\n",
       "    } else if (msg['mode'] === 'ZOOM') {\n",
       "        fig.buttons['Pan'].classList.remove('active');\n",
       "        fig.buttons['Zoom'].classList.add('active');\n",
       "    } else {\n",
       "        fig.buttons['Pan'].classList.remove('active');\n",
       "        fig.buttons['Zoom'].classList.remove('active');\n",
       "    }\n",
       "};\n",
       "\n",
       "mpl.figure.prototype.updated_canvas_event = function () {\n",
       "    // Called whenever the canvas gets updated.\n",
       "    this.send_message('ack', {});\n",
       "};\n",
       "\n",
       "// A function to construct a web socket function for onmessage handling.\n",
       "// Called in the figure constructor.\n",
       "mpl.figure.prototype._make_on_message_function = function (fig) {\n",
       "    return function socket_on_message(evt) {\n",
       "        if (evt.data instanceof Blob) {\n",
       "            var img = evt.data;\n",
       "            if (img.type !== 'image/png') {\n",
       "                /* FIXME: We get \"Resource interpreted as Image but\n",
       "                 * transferred with MIME type text/plain:\" errors on\n",
       "                 * Chrome.  But how to set the MIME type?  It doesn't seem\n",
       "                 * to be part of the websocket stream */\n",
       "                img.type = 'image/png';\n",
       "            }\n",
       "\n",
       "            /* Free the memory for the previous frames */\n",
       "            if (fig.imageObj.src) {\n",
       "                (window.URL || window.webkitURL).revokeObjectURL(\n",
       "                    fig.imageObj.src\n",
       "                );\n",
       "            }\n",
       "\n",
       "            fig.imageObj.src = (window.URL || window.webkitURL).createObjectURL(\n",
       "                img\n",
       "            );\n",
       "            fig.updated_canvas_event();\n",
       "            fig.waiting = false;\n",
       "            return;\n",
       "        } else if (\n",
       "            typeof evt.data === 'string' &&\n",
       "            evt.data.slice(0, 21) === 'data:image/png;base64'\n",
       "        ) {\n",
       "            fig.imageObj.src = evt.data;\n",
       "            fig.updated_canvas_event();\n",
       "            fig.waiting = false;\n",
       "            return;\n",
       "        }\n",
       "\n",
       "        var msg = JSON.parse(evt.data);\n",
       "        var msg_type = msg['type'];\n",
       "\n",
       "        // Call the  \"handle_{type}\" callback, which takes\n",
       "        // the figure and JSON message as its only arguments.\n",
       "        try {\n",
       "            var callback = fig['handle_' + msg_type];\n",
       "        } catch (e) {\n",
       "            console.log(\n",
       "                \"No handler for the '\" + msg_type + \"' message type: \",\n",
       "                msg\n",
       "            );\n",
       "            return;\n",
       "        }\n",
       "\n",
       "        if (callback) {\n",
       "            try {\n",
       "                // console.log(\"Handling '\" + msg_type + \"' message: \", msg);\n",
       "                callback(fig, msg);\n",
       "            } catch (e) {\n",
       "                console.log(\n",
       "                    \"Exception inside the 'handler_\" + msg_type + \"' callback:\",\n",
       "                    e,\n",
       "                    e.stack,\n",
       "                    msg\n",
       "                );\n",
       "            }\n",
       "        }\n",
       "    };\n",
       "};\n",
       "\n",
       "// from http://stackoverflow.com/questions/1114465/getting-mouse-location-in-canvas\n",
       "mpl.findpos = function (e) {\n",
       "    //this section is from http://www.quirksmode.org/js/events_properties.html\n",
       "    var targ;\n",
       "    if (!e) {\n",
       "        e = window.event;\n",
       "    }\n",
       "    if (e.target) {\n",
       "        targ = e.target;\n",
       "    } else if (e.srcElement) {\n",
       "        targ = e.srcElement;\n",
       "    }\n",
       "    if (targ.nodeType === 3) {\n",
       "        // defeat Safari bug\n",
       "        targ = targ.parentNode;\n",
       "    }\n",
       "\n",
       "    // pageX,Y are the mouse positions relative to the document\n",
       "    var boundingRect = targ.getBoundingClientRect();\n",
       "    var x = e.pageX - (boundingRect.left + document.body.scrollLeft);\n",
       "    var y = e.pageY - (boundingRect.top + document.body.scrollTop);\n",
       "\n",
       "    return { x: x, y: y };\n",
       "};\n",
       "\n",
       "/*\n",
       " * return a copy of an object with only non-object keys\n",
       " * we need this to avoid circular references\n",
       " * http://stackoverflow.com/a/24161582/3208463\n",
       " */\n",
       "function simpleKeys(original) {\n",
       "    return Object.keys(original).reduce(function (obj, key) {\n",
       "        if (typeof original[key] !== 'object') {\n",
       "            obj[key] = original[key];\n",
       "        }\n",
       "        return obj;\n",
       "    }, {});\n",
       "}\n",
       "\n",
       "mpl.figure.prototype.mouse_event = function (event, name) {\n",
       "    var canvas_pos = mpl.findpos(event);\n",
       "\n",
       "    if (name === 'button_press') {\n",
       "        this.canvas.focus();\n",
       "        this.canvas_div.focus();\n",
       "    }\n",
       "\n",
       "    var x = canvas_pos.x * this.ratio;\n",
       "    var y = canvas_pos.y * this.ratio;\n",
       "\n",
       "    this.send_message(name, {\n",
       "        x: x,\n",
       "        y: y,\n",
       "        button: event.button,\n",
       "        step: event.step,\n",
       "        guiEvent: simpleKeys(event),\n",
       "    });\n",
       "\n",
       "    /* This prevents the web browser from automatically changing to\n",
       "     * the text insertion cursor when the button is pressed.  We want\n",
       "     * to control all of the cursor setting manually through the\n",
       "     * 'cursor' event from matplotlib */\n",
       "    event.preventDefault();\n",
       "    return false;\n",
       "};\n",
       "\n",
       "mpl.figure.prototype._key_event_extra = function (_event, _name) {\n",
       "    // Handle any extra behaviour associated with a key event\n",
       "};\n",
       "\n",
       "mpl.figure.prototype.key_event = function (event, name) {\n",
       "    // Prevent repeat events\n",
       "    if (name === 'key_press') {\n",
       "        if (event.key === this._key) {\n",
       "            return;\n",
       "        } else {\n",
       "            this._key = event.key;\n",
       "        }\n",
       "    }\n",
       "    if (name === 'key_release') {\n",
       "        this._key = null;\n",
       "    }\n",
       "\n",
       "    var value = '';\n",
       "    if (event.ctrlKey && event.key !== 'Control') {\n",
       "        value += 'ctrl+';\n",
       "    }\n",
       "    else if (event.altKey && event.key !== 'Alt') {\n",
       "        value += 'alt+';\n",
       "    }\n",
       "    else if (event.shiftKey && event.key !== 'Shift') {\n",
       "        value += 'shift+';\n",
       "    }\n",
       "\n",
       "    value += 'k' + event.key;\n",
       "\n",
       "    this._key_event_extra(event, name);\n",
       "\n",
       "    this.send_message(name, { key: value, guiEvent: simpleKeys(event) });\n",
       "    return false;\n",
       "};\n",
       "\n",
       "mpl.figure.prototype.toolbar_button_onclick = function (name) {\n",
       "    if (name === 'download') {\n",
       "        this.handle_save(this, null);\n",
       "    } else {\n",
       "        this.send_message('toolbar_button', { name: name });\n",
       "    }\n",
       "};\n",
       "\n",
       "mpl.figure.prototype.toolbar_button_onmouseover = function (tooltip) {\n",
       "    this.message.textContent = tooltip;\n",
       "};\n",
       "\n",
       "///////////////// REMAINING CONTENT GENERATED BY embed_js.py /////////////////\n",
       "// prettier-ignore\n",
       "var _JSXTOOLS_RESIZE_OBSERVER=function(A){var t,i=new WeakMap,n=new WeakMap,a=new WeakMap,r=new WeakMap,o=new Set;function s(e){if(!(this instanceof s))throw new TypeError(\"Constructor requires 'new' operator\");i.set(this,e)}function h(){throw new TypeError(\"Function is not a constructor\")}function c(e,t,i,n){e=0 in arguments?Number(arguments[0]):0,t=1 in arguments?Number(arguments[1]):0,i=2 in arguments?Number(arguments[2]):0,n=3 in arguments?Number(arguments[3]):0,this.right=(this.x=this.left=e)+(this.width=i),this.bottom=(this.y=this.top=t)+(this.height=n),Object.freeze(this)}function d(){t=requestAnimationFrame(d);var s=new WeakMap,p=new Set;o.forEach((function(t){r.get(t).forEach((function(i){var r=t instanceof window.SVGElement,o=a.get(t),d=r?0:parseFloat(o.paddingTop),f=r?0:parseFloat(o.paddingRight),l=r?0:parseFloat(o.paddingBottom),u=r?0:parseFloat(o.paddingLeft),g=r?0:parseFloat(o.borderTopWidth),m=r?0:parseFloat(o.borderRightWidth),w=r?0:parseFloat(o.borderBottomWidth),b=u+f,F=d+l,v=(r?0:parseFloat(o.borderLeftWidth))+m,W=g+w,y=r?0:t.offsetHeight-W-t.clientHeight,E=r?0:t.offsetWidth-v-t.clientWidth,R=b+v,z=F+W,M=r?t.width:parseFloat(o.width)-R-E,O=r?t.height:parseFloat(o.height)-z-y;if(n.has(t)){var k=n.get(t);if(k[0]===M&&k[1]===O)return}n.set(t,[M,O]);var S=Object.create(h.prototype);S.target=t,S.contentRect=new c(u,d,M,O),s.has(i)||(s.set(i,[]),p.add(i)),s.get(i).push(S)}))})),p.forEach((function(e){i.get(e).call(e,s.get(e),e)}))}return s.prototype.observe=function(i){if(i instanceof window.Element){r.has(i)||(r.set(i,new Set),o.add(i),a.set(i,window.getComputedStyle(i)));var n=r.get(i);n.has(this)||n.add(this),cancelAnimationFrame(t),t=requestAnimationFrame(d)}},s.prototype.unobserve=function(i){if(i instanceof window.Element&&r.has(i)){var n=r.get(i);n.has(this)&&(n.delete(this),n.size||(r.delete(i),o.delete(i))),n.size||r.delete(i),o.size||cancelAnimationFrame(t)}},A.DOMRectReadOnly=c,A.ResizeObserver=s,A.ResizeObserverEntry=h,A}; // eslint-disable-line\n",
       "mpl.toolbar_items = [[\"Home\", \"Reset original view\", \"fa fa-home icon-home\", \"home\"], [\"Back\", \"Back to previous view\", \"fa fa-arrow-left icon-arrow-left\", \"back\"], [\"Forward\", \"Forward to next view\", \"fa fa-arrow-right icon-arrow-right\", \"forward\"], [\"\", \"\", \"\", \"\"], [\"Pan\", \"Left button pans, Right button zooms\\nx/y fixes axis, CTRL fixes aspect\", \"fa fa-arrows icon-move\", \"pan\"], [\"Zoom\", \"Zoom to rectangle\\nx/y fixes axis, CTRL fixes aspect\", \"fa fa-square-o icon-check-empty\", \"zoom\"], [\"\", \"\", \"\", \"\"], [\"Download\", \"Download plot\", \"fa fa-floppy-o icon-save\", \"download\"]];\n",
       "\n",
       "mpl.extensions = [\"eps\", \"jpeg\", \"pgf\", \"pdf\", \"png\", \"ps\", \"raw\", \"svg\", \"tif\"];\n",
       "\n",
       "mpl.default_extension = \"png\";/* global mpl */\n",
       "\n",
       "var comm_websocket_adapter = function (comm) {\n",
       "    // Create a \"websocket\"-like object which calls the given IPython comm\n",
       "    // object with the appropriate methods. Currently this is a non binary\n",
       "    // socket, so there is still some room for performance tuning.\n",
       "    var ws = {};\n",
       "\n",
       "    ws.binaryType = comm.kernel.ws.binaryType;\n",
       "    ws.readyState = comm.kernel.ws.readyState;\n",
       "    function updateReadyState(_event) {\n",
       "        if (comm.kernel.ws) {\n",
       "            ws.readyState = comm.kernel.ws.readyState;\n",
       "        } else {\n",
       "            ws.readyState = 3; // Closed state.\n",
       "        }\n",
       "    }\n",
       "    comm.kernel.ws.addEventListener('open', updateReadyState);\n",
       "    comm.kernel.ws.addEventListener('close', updateReadyState);\n",
       "    comm.kernel.ws.addEventListener('error', updateReadyState);\n",
       "\n",
       "    ws.close = function () {\n",
       "        comm.close();\n",
       "    };\n",
       "    ws.send = function (m) {\n",
       "        //console.log('sending', m);\n",
       "        comm.send(m);\n",
       "    };\n",
       "    // Register the callback with on_msg.\n",
       "    comm.on_msg(function (msg) {\n",
       "        //console.log('receiving', msg['content']['data'], msg);\n",
       "        var data = msg['content']['data'];\n",
       "        if (data['blob'] !== undefined) {\n",
       "            data = {\n",
       "                data: new Blob(msg['buffers'], { type: data['blob'] }),\n",
       "            };\n",
       "        }\n",
       "        // Pass the mpl event to the overridden (by mpl) onmessage function.\n",
       "        ws.onmessage(data);\n",
       "    });\n",
       "    return ws;\n",
       "};\n",
       "\n",
       "mpl.mpl_figure_comm = function (comm, msg) {\n",
       "    // This is the function which gets called when the mpl process\n",
       "    // starts-up an IPython Comm through the \"matplotlib\" channel.\n",
       "\n",
       "    var id = msg.content.data.id;\n",
       "    // Get hold of the div created by the display call when the Comm\n",
       "    // socket was opened in Python.\n",
       "    var element = document.getElementById(id);\n",
       "    var ws_proxy = comm_websocket_adapter(comm);\n",
       "\n",
       "    function ondownload(figure, _format) {\n",
       "        window.open(figure.canvas.toDataURL());\n",
       "    }\n",
       "\n",
       "    var fig = new mpl.figure(id, ws_proxy, ondownload, element);\n",
       "\n",
       "    // Call onopen now - mpl needs it, as it is assuming we've passed it a real\n",
       "    // web socket which is closed, not our websocket->open comm proxy.\n",
       "    ws_proxy.onopen();\n",
       "\n",
       "    fig.parent_element = element;\n",
       "    fig.cell_info = mpl.find_output_cell(\"<div id='\" + id + \"'></div>\");\n",
       "    if (!fig.cell_info) {\n",
       "        console.error('Failed to find cell for figure', id, fig);\n",
       "        return;\n",
       "    }\n",
       "    fig.cell_info[0].output_area.element.on(\n",
       "        'cleared',\n",
       "        { fig: fig },\n",
       "        fig._remove_fig_handler\n",
       "    );\n",
       "};\n",
       "\n",
       "mpl.figure.prototype.handle_close = function (fig, msg) {\n",
       "    var width = fig.canvas.width / fig.ratio;\n",
       "    fig.cell_info[0].output_area.element.off(\n",
       "        'cleared',\n",
       "        fig._remove_fig_handler\n",
       "    );\n",
       "    fig.resizeObserverInstance.unobserve(fig.canvas_div);\n",
       "\n",
       "    // Update the output cell to use the data from the current canvas.\n",
       "    fig.push_to_output();\n",
       "    var dataURL = fig.canvas.toDataURL();\n",
       "    // Re-enable the keyboard manager in IPython - without this line, in FF,\n",
       "    // the notebook keyboard shortcuts fail.\n",
       "    IPython.keyboard_manager.enable();\n",
       "    fig.parent_element.innerHTML =\n",
       "        '<img src=\"' + dataURL + '\" width=\"' + width + '\">';\n",
       "    fig.close_ws(fig, msg);\n",
       "};\n",
       "\n",
       "mpl.figure.prototype.close_ws = function (fig, msg) {\n",
       "    fig.send_message('closing', msg);\n",
       "    // fig.ws.close()\n",
       "};\n",
       "\n",
       "mpl.figure.prototype.push_to_output = function (_remove_interactive) {\n",
       "    // Turn the data on the canvas into data in the output cell.\n",
       "    var width = this.canvas.width / this.ratio;\n",
       "    var dataURL = this.canvas.toDataURL();\n",
       "    this.cell_info[1]['text/html'] =\n",
       "        '<img src=\"' + dataURL + '\" width=\"' + width + '\">';\n",
       "};\n",
       "\n",
       "mpl.figure.prototype.updated_canvas_event = function () {\n",
       "    // Tell IPython that the notebook contents must change.\n",
       "    IPython.notebook.set_dirty(true);\n",
       "    this.send_message('ack', {});\n",
       "    var fig = this;\n",
       "    // Wait a second, then push the new image to the DOM so\n",
       "    // that it is saved nicely (might be nice to debounce this).\n",
       "    setTimeout(function () {\n",
       "        fig.push_to_output();\n",
       "    }, 1000);\n",
       "};\n",
       "\n",
       "mpl.figure.prototype._init_toolbar = function () {\n",
       "    var fig = this;\n",
       "\n",
       "    var toolbar = document.createElement('div');\n",
       "    toolbar.classList = 'btn-toolbar';\n",
       "    this.root.appendChild(toolbar);\n",
       "\n",
       "    function on_click_closure(name) {\n",
       "        return function (_event) {\n",
       "            return fig.toolbar_button_onclick(name);\n",
       "        };\n",
       "    }\n",
       "\n",
       "    function on_mouseover_closure(tooltip) {\n",
       "        return function (event) {\n",
       "            if (!event.currentTarget.disabled) {\n",
       "                return fig.toolbar_button_onmouseover(tooltip);\n",
       "            }\n",
       "        };\n",
       "    }\n",
       "\n",
       "    fig.buttons = {};\n",
       "    var buttonGroup = document.createElement('div');\n",
       "    buttonGroup.classList = 'btn-group';\n",
       "    var button;\n",
       "    for (var toolbar_ind in mpl.toolbar_items) {\n",
       "        var name = mpl.toolbar_items[toolbar_ind][0];\n",
       "        var tooltip = mpl.toolbar_items[toolbar_ind][1];\n",
       "        var image = mpl.toolbar_items[toolbar_ind][2];\n",
       "        var method_name = mpl.toolbar_items[toolbar_ind][3];\n",
       "\n",
       "        if (!name) {\n",
       "            /* Instead of a spacer, we start a new button group. */\n",
       "            if (buttonGroup.hasChildNodes()) {\n",
       "                toolbar.appendChild(buttonGroup);\n",
       "            }\n",
       "            buttonGroup = document.createElement('div');\n",
       "            buttonGroup.classList = 'btn-group';\n",
       "            continue;\n",
       "        }\n",
       "\n",
       "        button = fig.buttons[name] = document.createElement('button');\n",
       "        button.classList = 'btn btn-default';\n",
       "        button.href = '#';\n",
       "        button.title = name;\n",
       "        button.innerHTML = '<i class=\"fa ' + image + ' fa-lg\"></i>';\n",
       "        button.addEventListener('click', on_click_closure(method_name));\n",
       "        button.addEventListener('mouseover', on_mouseover_closure(tooltip));\n",
       "        buttonGroup.appendChild(button);\n",
       "    }\n",
       "\n",
       "    if (buttonGroup.hasChildNodes()) {\n",
       "        toolbar.appendChild(buttonGroup);\n",
       "    }\n",
       "\n",
       "    // Add the status bar.\n",
       "    var status_bar = document.createElement('span');\n",
       "    status_bar.classList = 'mpl-message pull-right';\n",
       "    toolbar.appendChild(status_bar);\n",
       "    this.message = status_bar;\n",
       "\n",
       "    // Add the close button to the window.\n",
       "    var buttongrp = document.createElement('div');\n",
       "    buttongrp.classList = 'btn-group inline pull-right';\n",
       "    button = document.createElement('button');\n",
       "    button.classList = 'btn btn-mini btn-primary';\n",
       "    button.href = '#';\n",
       "    button.title = 'Stop Interaction';\n",
       "    button.innerHTML = '<i class=\"fa fa-power-off icon-remove icon-large\"></i>';\n",
       "    button.addEventListener('click', function (_evt) {\n",
       "        fig.handle_close(fig, {});\n",
       "    });\n",
       "    button.addEventListener(\n",
       "        'mouseover',\n",
       "        on_mouseover_closure('Stop Interaction')\n",
       "    );\n",
       "    buttongrp.appendChild(button);\n",
       "    var titlebar = this.root.querySelector('.ui-dialog-titlebar');\n",
       "    titlebar.insertBefore(buttongrp, titlebar.firstChild);\n",
       "};\n",
       "\n",
       "mpl.figure.prototype._remove_fig_handler = function (event) {\n",
       "    var fig = event.data.fig;\n",
       "    if (event.target !== this) {\n",
       "        // Ignore bubbled events from children.\n",
       "        return;\n",
       "    }\n",
       "    fig.close_ws(fig, {});\n",
       "};\n",
       "\n",
       "mpl.figure.prototype._root_extra_style = function (el) {\n",
       "    el.style.boxSizing = 'content-box'; // override notebook setting of border-box.\n",
       "};\n",
       "\n",
       "mpl.figure.prototype._canvas_extra_style = function (el) {\n",
       "    // this is important to make the div 'focusable\n",
       "    el.setAttribute('tabindex', 0);\n",
       "    // reach out to IPython and tell the keyboard manager to turn it's self\n",
       "    // off when our div gets focus\n",
       "\n",
       "    // location in version 3\n",
       "    if (IPython.notebook.keyboard_manager) {\n",
       "        IPython.notebook.keyboard_manager.register_events(el);\n",
       "    } else {\n",
       "        // location in version 2\n",
       "        IPython.keyboard_manager.register_events(el);\n",
       "    }\n",
       "};\n",
       "\n",
       "mpl.figure.prototype._key_event_extra = function (event, _name) {\n",
       "    var manager = IPython.notebook.keyboard_manager;\n",
       "    if (!manager) {\n",
       "        manager = IPython.keyboard_manager;\n",
       "    }\n",
       "\n",
       "    // Check for shift+enter\n",
       "    if (event.shiftKey && event.which === 13) {\n",
       "        this.canvas_div.blur();\n",
       "        // select the cell after this one\n",
       "        var index = IPython.notebook.find_cell_index(this.cell_info[0]);\n",
       "        IPython.notebook.select(index + 1);\n",
       "    }\n",
       "};\n",
       "\n",
       "mpl.figure.prototype.handle_save = function (fig, _msg) {\n",
       "    fig.ondownload(fig, null);\n",
       "};\n",
       "\n",
       "mpl.find_output_cell = function (html_output) {\n",
       "    // Return the cell and output element which can be found *uniquely* in the notebook.\n",
       "    // Note - this is a bit hacky, but it is done because the \"notebook_saving.Notebook\"\n",
       "    // IPython event is triggered only after the cells have been serialised, which for\n",
       "    // our purposes (turning an active figure into a static one), is too late.\n",
       "    var cells = IPython.notebook.get_cells();\n",
       "    var ncells = cells.length;\n",
       "    for (var i = 0; i < ncells; i++) {\n",
       "        var cell = cells[i];\n",
       "        if (cell.cell_type === 'code') {\n",
       "            for (var j = 0; j < cell.output_area.outputs.length; j++) {\n",
       "                var data = cell.output_area.outputs[j];\n",
       "                if (data.data) {\n",
       "                    // IPython >= 3 moved mimebundle to data attribute of output\n",
       "                    data = data.data;\n",
       "                }\n",
       "                if (data['text/html'] === html_output) {\n",
       "                    return [cell, data, j];\n",
       "                }\n",
       "            }\n",
       "        }\n",
       "    }\n",
       "};\n",
       "\n",
       "// Register the function which deals with the matplotlib target/channel.\n",
       "// The kernel may be null if the page has been refreshed.\n",
       "if (IPython.notebook.kernel !== null) {\n",
       "    IPython.notebook.kernel.comm_manager.register_target(\n",
       "        'matplotlib',\n",
       "        mpl.mpl_figure_comm\n",
       "    );\n",
       "}\n"
      ],
      "text/plain": [
       "<IPython.core.display.Javascript object>"
      ]
     },
     "metadata": {},
     "output_type": "display_data"
    },
    {
     "data": {
      "text/html": [
       "<img src=\"data:image/png;base64,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\" width=\"1066.2\">"
      ],
      "text/plain": [
       "<IPython.core.display.HTML object>"
      ]
     },
     "metadata": {},
     "output_type": "display_data"
    }
   ],
   "source": [
    "fig, ax1 = plt.subplots()\n",
    "\n",
    "ax1.plot(x, x**2, lw=2, color=\"blue\")\n",
    "ax1.set_ylabel(r\"area $(m^2)$\", fontsize=18, color=\"blue\")\n",
    "for label in ax1.get_yticklabels():\n",
    "    label.set_color(\"blue\")\n",
    "    \n",
    "ax2 = ax1.twinx()\n",
    "ax2.plot(x, x**3, lw=2, color=\"red\")\n",
    "ax2.set_ylabel(r\"volume $(m^3)$\", fontsize=18, color=\"red\")\n",
    "for label in ax2.get_yticklabels():\n",
    "    label.set_color(\"red\")\n",
    "\n",
    "plt.show()"
   ]
  },
  {
   "cell_type": "code",
   "execution_count": 18,
   "metadata": {},
   "outputs": [],
   "source": [
    "# allow to use matplotlib interactively and set the desired backend\n",
    "%matplotlib inline\n",
    "# %matplotlib notebook\n",
    "# %matplotlib --list"
   ]
  },
  {
   "cell_type": "markdown",
   "metadata": {},
   "source": [
    "## Magic functions\n",
    "\n",
    "[IPython's 'magic' functions](https://ipython.readthedocs.io/en/stable/interactive/magics.html)\n",
    "\n",
    "- The magic function system provides a series of **functions which allow you to\n",
    "control the behavior of IPython itself**, plus a lot of system-type\n",
    "features. There are two kinds of magics, **line-oriented** and **cell-oriented**:\n",
    "    - **Line magics are prefixed with the % character** and work much like OS\n",
    "command-line calls. They get as an argument the rest of the line, where\n",
    "arguments are passed without parentheses or quotes.\n",
    "    - **Cell magics are prefixed with %% (a double % character)**, and they are functions that get as an argument not only the rest of the line, but also the lines below it in a separate argument. These magics are called with two arguments: the rest of the call line and the body of the cell, consisting of the lines below the first."
   ]
  },
  {
   "cell_type": "code",
   "execution_count": 19,
   "metadata": {},
   "outputs": [
    {
     "data": {
      "application/json": {
       "cell": {
        "!": "OSMagics",
        "HTML": "Other",
        "SVG": "Other",
        "bash": "Other",
        "capture": "ExecutionMagics",
        "cmd": "Other",
        "debug": "ExecutionMagics",
        "file": "Other",
        "html": "DisplayMagics",
        "javascript": "DisplayMagics",
        "js": "DisplayMagics",
        "latex": "DisplayMagics",
        "markdown": "DisplayMagics",
        "perl": "Other",
        "prun": "ExecutionMagics",
        "pypy": "Other",
        "python": "Other",
        "python2": "Other",
        "python3": "Other",
        "ruby": "Other",
        "script": "ScriptMagics",
        "sh": "Other",
        "svg": "DisplayMagics",
        "sx": "OSMagics",
        "system": "OSMagics",
        "time": "ExecutionMagics",
        "timeit": "ExecutionMagics",
        "writefile": "OSMagics"
       },
       "line": {
        "alias": "OSMagics",
        "alias_magic": "BasicMagics",
        "autoawait": "AsyncMagics",
        "autocall": "AutoMagics",
        "automagic": "AutoMagics",
        "autosave": "KernelMagics",
        "bookmark": "OSMagics",
        "cd": "OSMagics",
        "clear": "KernelMagics",
        "cls": "KernelMagics",
        "colors": "BasicMagics",
        "conda": "PackagingMagics",
        "config": "ConfigMagics",
        "connect_info": "KernelMagics",
        "copy": "Other",
        "ddir": "Other",
        "debug": "ExecutionMagics",
        "dhist": "OSMagics",
        "dirs": "OSMagics",
        "doctest_mode": "BasicMagics",
        "echo": "Other",
        "ed": "Other",
        "edit": "KernelMagics",
        "env": "OSMagics",
        "gui": "BasicMagics",
        "hist": "Other",
        "history": "HistoryMagics",
        "killbgscripts": "ScriptMagics",
        "ldir": "Other",
        "less": "KernelMagics",
        "load": "CodeMagics",
        "load_ext": "ExtensionMagics",
        "loadpy": "CodeMagics",
        "logoff": "LoggingMagics",
        "logon": "LoggingMagics",
        "logstart": "LoggingMagics",
        "logstate": "LoggingMagics",
        "logstop": "LoggingMagics",
        "ls": "Other",
        "lsmagic": "BasicMagics",
        "macro": "ExecutionMagics",
        "magic": "BasicMagics",
        "matplotlib": "PylabMagics",
        "mkdir": "Other",
        "more": "KernelMagics",
        "notebook": "BasicMagics",
        "page": "BasicMagics",
        "pastebin": "CodeMagics",
        "pdb": "ExecutionMagics",
        "pdef": "NamespaceMagics",
        "pdoc": "NamespaceMagics",
        "pfile": "NamespaceMagics",
        "pinfo": "NamespaceMagics",
        "pinfo2": "NamespaceMagics",
        "pip": "PackagingMagics",
        "popd": "OSMagics",
        "pprint": "BasicMagics",
        "precision": "BasicMagics",
        "prun": "ExecutionMagics",
        "psearch": "NamespaceMagics",
        "psource": "NamespaceMagics",
        "pushd": "OSMagics",
        "pwd": "OSMagics",
        "pycat": "OSMagics",
        "pylab": "PylabMagics",
        "qtconsole": "KernelMagics",
        "quickref": "BasicMagics",
        "recall": "HistoryMagics",
        "rehashx": "OSMagics",
        "reload_ext": "ExtensionMagics",
        "ren": "Other",
        "rep": "Other",
        "rerun": "HistoryMagics",
        "reset": "NamespaceMagics",
        "reset_selective": "NamespaceMagics",
        "rmdir": "Other",
        "run": "ExecutionMagics",
        "save": "CodeMagics",
        "sc": "OSMagics",
        "set_env": "OSMagics",
        "store": "StoreMagics",
        "sx": "OSMagics",
        "system": "OSMagics",
        "tb": "ExecutionMagics",
        "time": "ExecutionMagics",
        "timeit": "ExecutionMagics",
        "unalias": "OSMagics",
        "unload_ext": "ExtensionMagics",
        "who": "NamespaceMagics",
        "who_ls": "NamespaceMagics",
        "whos": "NamespaceMagics",
        "xdel": "NamespaceMagics",
        "xmode": "BasicMagics"
       }
      },
      "text/plain": [
       "Available line magics:\n",
       "%alias  %alias_magic  %autoawait  %autocall  %automagic  %autosave  %bookmark  %cd  %clear  %cls  %colors  %conda  %config  %connect_info  %copy  %ddir  %debug  %dhist  %dirs  %doctest_mode  %echo  %ed  %edit  %env  %gui  %hist  %history  %killbgscripts  %ldir  %less  %load  %load_ext  %loadpy  %logoff  %logon  %logstart  %logstate  %logstop  %ls  %lsmagic  %macro  %magic  %matplotlib  %mkdir  %more  %notebook  %page  %pastebin  %pdb  %pdef  %pdoc  %pfile  %pinfo  %pinfo2  %pip  %popd  %pprint  %precision  %prun  %psearch  %psource  %pushd  %pwd  %pycat  %pylab  %qtconsole  %quickref  %recall  %rehashx  %reload_ext  %ren  %rep  %rerun  %reset  %reset_selective  %rmdir  %run  %save  %sc  %set_env  %store  %sx  %system  %tb  %time  %timeit  %unalias  %unload_ext  %who  %who_ls  %whos  %xdel  %xmode\n",
       "\n",
       "Available cell magics:\n",
       "%%!  %%HTML  %%SVG  %%bash  %%capture  %%cmd  %%debug  %%file  %%html  %%javascript  %%js  %%latex  %%markdown  %%perl  %%prun  %%pypy  %%python  %%python2  %%python3  %%ruby  %%script  %%sh  %%svg  %%sx  %%system  %%time  %%timeit  %%writefile\n",
       "\n",
       "Automagic is ON, % prefix IS NOT needed for line magics."
      ]
     },
     "execution_count": 19,
     "metadata": {},
     "output_type": "execute_result"
    }
   ],
   "source": [
    "%lsmagic"
   ]
  },
  {
   "cell_type": "code",
   "execution_count": 20,
   "metadata": {},
   "outputs": [
    {
     "name": "stdout",
     "output_type": "stream",
     "text": [
      "Variable       Type           Data/Info\n",
      "---------------------------------------\n",
      "ax1            AxesSubplot    AxesSubplot(0.125,0.11;0.775x0.77)\n",
      "ax2            AxesSubplot    AxesSubplot(0.125,0.11;0.775x0.77)\n",
      "axarr          ndarray        2: 2 elems, type `object`, 16 bytes\n",
      "composers_df   DataFrame                    birth   dea<...>N         modern      USA\n",
      "cos_t          ndarray        100: 100 elems, type `float64`, 800 bytes\n",
      "f              Figure         Figure(432x288)\n",
      "fig            Figure         Figure(1776.67x1333.33)\n",
      "label          Text           Text(1, 140.0, '140')\n",
      "np             module         <module 'numpy' from 'C:\\<...>ges\\\\numpy\\\\__init__.py'>\n",
      "pd             module         <module 'pandas' from 'C:<...>es\\\\pandas\\\\__init__.py'>\n",
      "plt            module         <module 'matplotlib.pyplo<...>\\\\matplotlib\\\\pyplot.py'>\n",
      "sin_t          ndarray        100: 100 elems, type `float64`, 800 bytes\n",
      "t              ndarray        100: 100 elems, type `float64`, 800 bytes\n",
      "x              ndarray        11: 11 elems, type `float64`, 88 bytes\n"
     ]
    }
   ],
   "source": [
    "%whos"
   ]
  },
  {
   "cell_type": "code",
   "execution_count": 21,
   "metadata": {},
   "outputs": [
    {
     "name": "stdout",
     "output_type": "stream",
     "text": [
      "Variable   Type       Data/Info\n",
      "-------------------------------\n",
      "axarr      ndarray    2: 2 elems, type `object`, 16 bytes\n",
      "cos_t      ndarray    100: 100 elems, type `float64`, 800 bytes\n",
      "sin_t      ndarray    100: 100 elems, type `float64`, 800 bytes\n",
      "t          ndarray    100: 100 elems, type `float64`, 800 bytes\n",
      "x          ndarray    11: 11 elems, type `float64`, 88 bytes\n"
     ]
    }
   ],
   "source": [
    "%whos ndarray"
   ]
  },
  {
   "cell_type": "code",
   "execution_count": 22,
   "metadata": {},
   "outputs": [
    {
     "name": "stdout",
     "output_type": "stream",
     "text": [
      "5.7 µs ± 91.1 ns per loop (mean ± std. dev. of 7 runs, 100000 loops each)\n"
     ]
    }
   ],
   "source": [
    "%timeit np.zeros((100,100))+5"
   ]
  },
  {
   "cell_type": "code",
   "execution_count": 23,
   "metadata": {},
   "outputs": [
    {
     "name": "stdout",
     "output_type": "stream",
     "text": [
      "11.3 µs ± 131 ns per loop (mean ± std. dev. of 7 runs, 100000 loops each)\n"
     ]
    }
   ],
   "source": [
    "%%timeit \n",
    "\n",
    "np.zeros((100,100))+5\n",
    "np.zeros((100,100))+5"
   ]
  }
 ],
 "metadata": {
  "kernelspec": {
   "display_name": "Python 3 (ipykernel)",
   "language": "python",
   "name": "python3"
  },
  "language_info": {
   "codemirror_mode": {
    "name": "ipython",
    "version": 3
   },
   "file_extension": ".py",
   "mimetype": "text/x-python",
   "name": "python",
   "nbconvert_exporter": "python",
   "pygments_lexer": "ipython3",
   "version": "3.9.7"
  }
 },
 "nbformat": 4,
 "nbformat_minor": 4
}
